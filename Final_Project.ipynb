{
 "cells": [
  {
   "cell_type": "markdown",
   "metadata": {},
   "source": [
    "# Machine Learning\n",
    "# Homework 5\n",
    "# Name: Guru Sarath Thangamani\n",
    "# UIN: 829009551"
   ]
  },
  {
   "cell_type": "code",
   "execution_count": 1,
   "metadata": {},
   "outputs": [
    {
     "name": "stderr",
     "output_type": "stream",
     "text": [
      "Using TensorFlow backend.\n"
     ]
    }
   ],
   "source": [
    "import numpy as np\n",
    "import matplotlib.pyplot as plt\n",
    "from sklearn.model_selection import train_test_split\n",
    "from keras import models\n",
    "from keras import layers\n",
    "from keras.utils import to_categorical"
   ]
  },
  {
   "cell_type": "code",
   "execution_count": 2,
   "metadata": {},
   "outputs": [],
   "source": [
    "import warnings\n",
    "warnings.filterwarnings('ignore')"
   ]
  },
  {
   "cell_type": "code",
   "execution_count": 3,
   "metadata": {},
   "outputs": [
    {
     "name": "stdout",
     "output_type": "stream",
     "text": [
      "X shape =  (10928, 561)\n",
      "y shape =  (10928,)\n"
     ]
    }
   ],
   "source": [
    "X = np.genfromtxt(\"Data_X.txt\", delimiter=\" \", skip_header=1)\n",
    "y = np.genfromtxt(\"Data_y.txt\", delimiter=\" \", skip_header=1, dtype=int)\n",
    "y = y - 1\n",
    "print('X shape = ', X.shape)\n",
    "print('y shape = ', y.shape)"
   ]
  },
  {
   "cell_type": "code",
   "execution_count": 29,
   "metadata": {},
   "outputs": [],
   "source": [
    "features = ['tBodyAcc-Mean-1', 'tBodyAcc-Mean-2', 'tBodyAcc-Mean-3', 'tBodyAcc-STD-1', 'tBodyAcc-STD-2', 'tBodyAcc-STD-3', 'tBodyAcc-Mad-1', 'tBodyAcc-Mad-2', 'tBodyAcc-Mad-3', 'tBodyAcc-Max-1', 'tBodyAcc-Max-2', 'tBodyAcc-Max-3', 'tBodyAcc-Min-1', 'tBodyAcc-Min-2', 'tBodyAcc-Min-3', 'tBodyAcc-SMA-1', 'tBodyAcc-Energy-1', 'tBodyAcc-Energy-2', 'tBodyAcc-Energy-3', 'tBodyAcc-IQR-1', 'tBodyAcc-IQR-2', 'tBodyAcc-IQR-3', 'tBodyAcc-ropy-1', 'tBodyAcc-ropy-1', 'tBodyAcc-ropy-1', 'tBodyAcc-ARCoeff-1', 'tBodyAcc-ARCoeff-2', 'tBodyAcc-ARCoeff-3', 'tBodyAcc-ARCoeff-4', 'tBodyAcc-ARCoeff-5', 'tBodyAcc-ARCoeff-6', 'tBodyAcc-ARCoeff-7', 'tBodyAcc-ARCoeff-8', 'tBodyAcc-ARCoeff-9', 'tBodyAcc-ARCoeff-10', 'tBodyAcc-ARCoeff-11', 'tBodyAcc-ARCoeff-12', 'tBodyAcc-Correlation-1', 'tBodyAcc-Correlation-2', 'tBodyAcc-Correlation-3', 'tGravityAcc-Mean-1', 'tGravityAcc-Mean-2', 'tGravityAcc-Mean-3', 'tGravityAcc-STD-1', 'tGravityAcc-STD-2', 'tGravityAcc-STD-3', 'tGravityAcc-Mad-1', 'tGravityAcc-Mad-2', 'tGravityAcc-Mad-3', 'tGravityAcc-Max-1', 'tGravityAcc-Max-2', 'tGravityAcc-Max-3', 'tGravityAcc-Min-1', 'tGravityAcc-Min-2', 'tGravityAcc-Min-3', 'tGravityAcc-SMA-1', 'tGravityAcc-Energy-1', 'tGravityAcc-Energy-2', 'tGravityAcc-Energy-3', 'tGravityAcc-IQR-1', 'tGravityAcc-IQR-2', 'tGravityAcc-IQR-3', 'tGravityAcc-ropy-1', 'tGravityAcc-ropy-1', 'tGravityAcc-ropy-1', 'tGravityAcc-ARCoeff-1', 'tGravityAcc-ARCoeff-2', 'tGravityAcc-ARCoeff-3', 'tGravityAcc-ARCoeff-4', 'tGravityAcc-ARCoeff-5', 'tGravityAcc-ARCoeff-6', 'tGravityAcc-ARCoeff-7', 'tGravityAcc-ARCoeff-8', 'tGravityAcc-ARCoeff-9', 'tGravityAcc-ARCoeff-10', 'tGravityAcc-ARCoeff-11', 'tGravityAcc-ARCoeff-12', 'tGravityAcc-Correlation-1', 'tGravityAcc-Correlation-2', 'tGravityAcc-Correlation-3', 'tBodyAccJerk-Mean-1', 'tBodyAccJerk-Mean-2', 'tBodyAccJerk-Mean-3', 'tBodyAccJerk-STD-1', 'tBodyAccJerk-STD-2', 'tBodyAccJerk-STD-3', 'tBodyAccJerk-Mad-1', 'tBodyAccJerk-Mad-2', 'tBodyAccJerk-Mad-3', 'tBodyAccJerk-Max-1', 'tBodyAccJerk-Max-2', 'tBodyAccJerk-Max-3', 'tBodyAccJerk-Min-1', 'tBodyAccJerk-Min-2', 'tBodyAccJerk-Min-3', 'tBodyAccJerk-SMA-1', 'tBodyAccJerk-Energy-1', 'tBodyAccJerk-Energy-2', 'tBodyAccJerk-Energy-3', 'tBodyAccJerk-IQR-1', 'tBodyAccJerk-IQR-2', 'tBodyAccJerk-IQR-3', 'tBodyAccJerk-ropy-1', 'tBodyAccJerk-ropy-1', 'tBodyAccJerk-ropy-1', 'tBodyAccJerk-ARCoeff-1', 'tBodyAccJerk-ARCoeff-2', 'tBodyAccJerk-ARCoeff-3', 'tBodyAccJerk-ARCoeff-4', 'tBodyAccJerk-ARCoeff-5', 'tBodyAccJerk-ARCoeff-6', 'tBodyAccJerk-ARCoeff-7', 'tBodyAccJerk-ARCoeff-8', 'tBodyAccJerk-ARCoeff-9', 'tBodyAccJerk-ARCoeff-10', 'tBodyAccJerk-ARCoeff-11', 'tBodyAccJerk-ARCoeff-12', 'tBodyAccJerk-Correlation-1', 'tBodyAccJerk-Correlation-2', 'tBodyAccJerk-Correlation-3', 'tBodyGyro-Mean-1', 'tBodyGyro-Mean-2', 'tBodyGyro-Mean-3', 'tBodyGyro-STD-1', 'tBodyGyro-STD-2', 'tBodyGyro-STD-3', 'tBodyGyro-Mad-1', 'tBodyGyro-Mad-2', 'tBodyGyro-Mad-3', 'tBodyGyro-Max-1', 'tBodyGyro-Max-2', 'tBodyGyro-Max-3', 'tBodyGyro-Min-1', 'tBodyGyro-Min-2', 'tBodyGyro-Min-3', 'tBodyGyro-SMA-1', 'tBodyGyro-Energy-1', 'tBodyGyro-Energy-2', 'tBodyGyro-Energy-3', 'tBodyGyro-IQR-1', 'tBodyGyro-IQR-2', 'tBodyGyro-IQR-3', 'tBodyGyro-ropy-1', 'tBodyGyro-ropy-1', 'tBodyGyro-ropy-1', 'tBodyGyro-ARCoeff-1', 'tBodyGyro-ARCoeff-2', 'tBodyGyro-ARCoeff-3', 'tBodyGyro-ARCoeff-4', 'tBodyGyro-ARCoeff-5', 'tBodyGyro-ARCoeff-6', 'tBodyGyro-ARCoeff-7', 'tBodyGyro-ARCoeff-8', 'tBodyGyro-ARCoeff-9', 'tBodyGyro-ARCoeff-10', 'tBodyGyro-ARCoeff-11', 'tBodyGyro-ARCoeff-12', 'tBodyGyro-Correlation-1', 'tBodyGyro-Correlation-2', 'tBodyGyro-Correlation-3', 'tBodyGyroJerk-Mean-1', 'tBodyGyroJerk-Mean-2', 'tBodyGyroJerk-Mean-3', 'tBodyGyroJerk-STD-1', 'tBodyGyroJerk-STD-2', 'tBodyGyroJerk-STD-3', 'tBodyGyroJerk-Mad-1', 'tBodyGyroJerk-Mad-2', 'tBodyGyroJerk-Mad-3', 'tBodyGyroJerk-Max-1', 'tBodyGyroJerk-Max-2', 'tBodyGyroJerk-Max-3', 'tBodyGyroJerk-Min-1', 'tBodyGyroJerk-Min-2', 'tBodyGyroJerk-Min-3', 'tBodyGyroJerk-SMA-1', 'tBodyGyroJerk-Energy-1', 'tBodyGyroJerk-Energy-2', 'tBodyGyroJerk-Energy-3', 'tBodyGyroJerk-IQR-1', 'tBodyGyroJerk-IQR-2', 'tBodyGyroJerk-IQR-3', 'tBodyGyroJerk-ropy-1', 'tBodyGyroJerk-ropy-1', 'tBodyGyroJerk-ropy-1', 'tBodyGyroJerk-ARCoeff-1', 'tBodyGyroJerk-ARCoeff-2', 'tBodyGyroJerk-ARCoeff-3', 'tBodyGyroJerk-ARCoeff-4', 'tBodyGyroJerk-ARCoeff-5', 'tBodyGyroJerk-ARCoeff-6', 'tBodyGyroJerk-ARCoeff-7', 'tBodyGyroJerk-ARCoeff-8', 'tBodyGyroJerk-ARCoeff-9', 'tBodyGyroJerk-ARCoeff-10', 'tBodyGyroJerk-ARCoeff-11', 'tBodyGyroJerk-ARCoeff-12', 'tBodyGyroJerk-Correlation-1', 'tBodyGyroJerk-Correlation-2', 'tBodyGyroJerk-Correlation-3', 'tBodyAccMag-Mean-1', 'tBodyAccMag-STD-1', 'tBodyAccMag-Mad-1', 'tBodyAccMag-Max-1', 'tBodyAccMag-Min-1', 'tBodyAccMag-SMA-1', 'tBodyAccMag-Energy-1', 'tBodyAccMag-IQR-1', 'tBodyAccMag-ropy-1', 'tBodyAccMag-ARCoeff-1', 'tBodyAccMag-ARCoeff-2', 'tBodyAccMag-ARCoeff-3', 'tBodyAccMag-ARCoeff-4', 'tGravityAccMag-Mean-1', 'tGravityAccMag-STD-1', 'tGravityAccMag-Mad-1', 'tGravityAccMag-Max-1', 'tGravityAccMag-Min-1', 'tGravityAccMag-SMA-1', 'tGravityAccMag-Energy-1', 'tGravityAccMag-IQR-1', 'tGravityAccMag-ropy-1', 'tGravityAccMag-ARCoeff-1', 'tGravityAccMag-ARCoeff-2', 'tGravityAccMag-ARCoeff-3', 'tGravityAccMag-ARCoeff-4', 'tBodyAccJerkMag-Mean-1', 'tBodyAccJerkMag-STD-1', 'tBodyAccJerkMag-Mad-1', 'tBodyAccJerkMag-Max-1', 'tBodyAccJerkMag-Min-1', 'tBodyAccJerkMag-SMA-1', 'tBodyAccJerkMag-Energy-1', 'tBodyAccJerkMag-IQR-1', 'tBodyAccJerkMag-ropy-1', 'tBodyAccJerkMag-ARCoeff-1', 'tBodyAccJerkMag-ARCoeff-2', 'tBodyAccJerkMag-ARCoeff-3', 'tBodyAccJerkMag-ARCoeff-4', 'tBodyGyroMag-Mean-1', 'tBodyGyroMag-STD-1', 'tBodyGyroMag-Mad-1', 'tBodyGyroMag-Max-1', 'tBodyGyroMag-Min-1', 'tBodyGyroMag-SMA-1', 'tBodyGyroMag-Energy-1', 'tBodyGyroMag-IQR-1', 'tBodyGyroMag-ropy-1', 'tBodyGyroMag-ARCoeff-1', 'tBodyGyroMag-ARCoeff-2', 'tBodyGyroMag-ARCoeff-3', 'tBodyGyroMag-ARCoeff-4', 'tBodyGyroJerkMag-Mean-1', 'tBodyGyroJerkMag-STD-1', 'tBodyGyroJerkMag-Mad-1', 'tBodyGyroJerkMag-Max-1', 'tBodyGyroJerkMag-Min-1', 'tBodyGyroJerkMag-SMA-1', 'tBodyGyroJerkMag-Energy-1', 'tBodyGyroJerkMag-IQR-1', 'tBodyGyroJerkMag-ropy-1', 'tBodyGyroJerkMag-ARCoeff-1', 'tBodyGyroJerkMag-ARCoeff-2', 'tBodyGyroJerkMag-ARCoeff-3', 'tBodyGyroJerkMag-ARCoeff-4', 'fBodyAcc-Mean-1', 'fBodyAcc-Mean-2', 'fBodyAcc-Mean-3', 'fBodyAcc-STD-1', 'fBodyAcc-STD-2', 'fBodyAcc-STD-3', 'fBodyAcc-Mad-1', 'fBodyAcc-Mad-2', 'fBodyAcc-Mad-3', 'fBodyAcc-Max-1', 'fBodyAcc-Max-2', 'fBodyAcc-Max-3', 'fBodyAcc-Min-1', 'fBodyAcc-Min-2', 'fBodyAcc-Min-3', 'fBodyAcc-SMA-1', 'fBodyAcc-Energy-1', 'fBodyAcc-Energy-2', 'fBodyAcc-Energy-3', 'fBodyAcc-IQR-1', 'fBodyAcc-IQR-2', 'fBodyAcc-IQR-3', 'fBodyAcc-ropy-1', 'fBodyAcc-ropy-1', 'fBodyAcc-ropy-1', 'fBodyAcc-MaxInds-1', 'fBodyAcc-MaxInds-2', 'fBodyAcc-MaxInds-3', 'fBodyAcc-MeanFreq-1', 'fBodyAcc-MeanFreq-2', 'fBodyAcc-MeanFreq-3', 'fBodyAcc-Skewness-1', 'fBodyAcc-Kurtosis-1', 'fBodyAcc-Skewness-1', 'fBodyAcc-Kurtosis-1', 'fBodyAcc-Skewness-1', 'fBodyAcc-Kurtosis-1', 'fBodyAcc-BandsEnergyOld-1', 'fBodyAcc-BandsEnergyOld-2', 'fBodyAcc-BandsEnergyOld-3', 'fBodyAcc-BandsEnergyOld-4', 'fBodyAcc-BandsEnergyOld-5', 'fBodyAcc-BandsEnergyOld-6', 'fBodyAcc-BandsEnergyOld-7', 'fBodyAcc-BandsEnergyOld-8', 'fBodyAcc-BandsEnergyOld-9', 'fBodyAcc-BandsEnergyOld-10', 'fBodyAcc-BandsEnergyOld-11', 'fBodyAcc-BandsEnergyOld-12', 'fBodyAcc-BandsEnergyOld-13', 'fBodyAcc-BandsEnergyOld-14', 'fBodyAcc-BandsEnergyOld-15', 'fBodyAcc-BandsEnergyOld-16', 'fBodyAcc-BandsEnergyOld-17', 'fBodyAcc-BandsEnergyOld-18', 'fBodyAcc-BandsEnergyOld-19', 'fBodyAcc-BandsEnergyOld-20', 'fBodyAcc-BandsEnergyOld-21', 'fBodyAcc-BandsEnergyOld-22', 'fBodyAcc-BandsEnergyOld-23', 'fBodyAcc-BandsEnergyOld-24', 'fBodyAcc-BandsEnergyOld-25', 'fBodyAcc-BandsEnergyOld-26', 'fBodyAcc-BandsEnergyOld-27', 'fBodyAcc-BandsEnergyOld-28', 'fBodyAcc-BandsEnergyOld-29', 'fBodyAcc-BandsEnergyOld-30', 'fBodyAcc-BandsEnergyOld-31', 'fBodyAcc-BandsEnergyOld-32', 'fBodyAcc-BandsEnergyOld-33', 'fBodyAcc-BandsEnergyOld-34', 'fBodyAcc-BandsEnergyOld-35', 'fBodyAcc-BandsEnergyOld-36', 'fBodyAcc-BandsEnergyOld-37', 'fBodyAcc-BandsEnergyOld-38', 'fBodyAcc-BandsEnergyOld-39', 'fBodyAcc-BandsEnergyOld-40', 'fBodyAcc-BandsEnergyOld-41', 'fBodyAcc-BandsEnergyOld-42', 'fBodyAccJerk-Mean-1', 'fBodyAccJerk-Mean-2', 'fBodyAccJerk-Mean-3', 'fBodyAccJerk-STD-1', 'fBodyAccJerk-STD-2', 'fBodyAccJerk-STD-3', 'fBodyAccJerk-Mad-1', 'fBodyAccJerk-Mad-2', 'fBodyAccJerk-Mad-3', 'fBodyAccJerk-Max-1', 'fBodyAccJerk-Max-2', 'fBodyAccJerk-Max-3', 'fBodyAccJerk-Min-1', 'fBodyAccJerk-Min-2', 'fBodyAccJerk-Min-3', 'fBodyAccJerk-SMA-1', 'fBodyAccJerk-Energy-1', 'fBodyAccJerk-Energy-2', 'fBodyAccJerk-Energy-3', 'fBodyAccJerk-IQR-1', 'fBodyAccJerk-IQR-2', 'fBodyAccJerk-IQR-3', 'fBodyAccJerk-ropy-1', 'fBodyAccJerk-ropy-1', 'fBodyAccJerk-ropy-1', 'fBodyAccJerk-MaxInds-1', 'fBodyAccJerk-MaxInds-2', 'fBodyAccJerk-MaxInds-3', 'fBodyAccJerk-MeanFreq-1', 'fBodyAccJerk-MeanFreq-2', 'fBodyAccJerk-MeanFreq-3', 'fBodyAccJerk-Skewness-1', 'fBodyAccJerk-Kurtosis-1', 'fBodyAccJerk-Skewness-1', 'fBodyAccJerk-Kurtosis-1', 'fBodyAccJerk-Skewness-1', 'fBodyAccJerk-Kurtosis-1', 'fBodyAccJerk-BandsEnergyOld-1', 'fBodyAccJerk-BandsEnergyOld-2', 'fBodyAccJerk-BandsEnergyOld-3', 'fBodyAccJerk-BandsEnergyOld-4', 'fBodyAccJerk-BandsEnergyOld-5', 'fBodyAccJerk-BandsEnergyOld-6', 'fBodyAccJerk-BandsEnergyOld-7', 'fBodyAccJerk-BandsEnergyOld-8', 'fBodyAccJerk-BandsEnergyOld-9', 'fBodyAccJerk-BandsEnergyOld-10', 'fBodyAccJerk-BandsEnergyOld-11', 'fBodyAccJerk-BandsEnergyOld-12', 'fBodyAccJerk-BandsEnergyOld-13', 'fBodyAccJerk-BandsEnergyOld-14', 'fBodyAccJerk-BandsEnergyOld-15', 'fBodyAccJerk-BandsEnergyOld-16', 'fBodyAccJerk-BandsEnergyOld-17', 'fBodyAccJerk-BandsEnergyOld-18', 'fBodyAccJerk-BandsEnergyOld-19', 'fBodyAccJerk-BandsEnergyOld-20', 'fBodyAccJerk-BandsEnergyOld-21', 'fBodyAccJerk-BandsEnergyOld-22', 'fBodyAccJerk-BandsEnergyOld-23', 'fBodyAccJerk-BandsEnergyOld-24', 'fBodyAccJerk-BandsEnergyOld-25', 'fBodyAccJerk-BandsEnergyOld-26', 'fBodyAccJerk-BandsEnergyOld-27', 'fBodyAccJerk-BandsEnergyOld-28', 'fBodyAccJerk-BandsEnergyOld-29', 'fBodyAccJerk-BandsEnergyOld-30', 'fBodyAccJerk-BandsEnergyOld-31', 'fBodyAccJerk-BandsEnergyOld-32', 'fBodyAccJerk-BandsEnergyOld-33', 'fBodyAccJerk-BandsEnergyOld-34', 'fBodyAccJerk-BandsEnergyOld-35', 'fBodyAccJerk-BandsEnergyOld-36', 'fBodyAccJerk-BandsEnergyOld-37', 'fBodyAccJerk-BandsEnergyOld-38', 'fBodyAccJerk-BandsEnergyOld-39', 'fBodyAccJerk-BandsEnergyOld-40', 'fBodyAccJerk-BandsEnergyOld-41', 'fBodyAccJerk-BandsEnergyOld-42', 'fBodyGyro-Mean-1', 'fBodyGyro-Mean-2', 'fBodyGyro-Mean-3', 'fBodyGyro-STD-1', 'fBodyGyro-STD-2', 'fBodyGyro-STD-3', 'fBodyGyro-Mad-1', 'fBodyGyro-Mad-2', 'fBodyGyro-Mad-3', 'fBodyGyro-Max-1', 'fBodyGyro-Max-2', 'fBodyGyro-Max-3', 'fBodyGyro-Min-1', 'fBodyGyro-Min-2', 'fBodyGyro-Min-3', 'fBodyGyro-SMA-1', 'fBodyGyro-Energy-1', 'fBodyGyro-Energy-2', 'fBodyGyro-Energy-3', 'fBodyGyro-IQR-1', 'fBodyGyro-IQR-2', 'fBodyGyro-IQR-3', 'fBodyGyro-ropy-1', 'fBodyGyro-ropy-1', 'fBodyGyro-ropy-1', 'fBodyGyro-MaxInds-1', 'fBodyGyro-MaxInds-2', 'fBodyGyro-MaxInds-3', 'fBodyGyro-MeanFreq-1', 'fBodyGyro-MeanFreq-2', 'fBodyGyro-MeanFreq-3', 'fBodyGyro-Skewness-1', 'fBodyGyro-Kurtosis-1', 'fBodyGyro-Skewness-1', 'fBodyGyro-Kurtosis-1', 'fBodyGyro-Skewness-1', 'fBodyGyro-Kurtosis-1', 'fBodyGyro-BandsEnergyOld-1', 'fBodyGyro-BandsEnergyOld-2', 'fBodyGyro-BandsEnergyOld-3', 'fBodyGyro-BandsEnergyOld-4', 'fBodyGyro-BandsEnergyOld-5', 'fBodyGyro-BandsEnergyOld-6', 'fBodyGyro-BandsEnergyOld-7', 'fBodyGyro-BandsEnergyOld-8', 'fBodyGyro-BandsEnergyOld-9', 'fBodyGyro-BandsEnergyOld-10', 'fBodyGyro-BandsEnergyOld-11', 'fBodyGyro-BandsEnergyOld-12', 'fBodyGyro-BandsEnergyOld-13', 'fBodyGyro-BandsEnergyOld-14', 'fBodyGyro-BandsEnergyOld-15', 'fBodyGyro-BandsEnergyOld-16', 'fBodyGyro-BandsEnergyOld-17', 'fBodyGyro-BandsEnergyOld-18', 'fBodyGyro-BandsEnergyOld-19', 'fBodyGyro-BandsEnergyOld-20', 'fBodyGyro-BandsEnergyOld-21', 'fBodyGyro-BandsEnergyOld-22', 'fBodyGyro-BandsEnergyOld-23', 'fBodyGyro-BandsEnergyOld-24', 'fBodyGyro-BandsEnergyOld-25', 'fBodyGyro-BandsEnergyOld-26', 'fBodyGyro-BandsEnergyOld-27', 'fBodyGyro-BandsEnergyOld-28', 'fBodyGyro-BandsEnergyOld-29', 'fBodyGyro-BandsEnergyOld-30', 'fBodyGyro-BandsEnergyOld-31', 'fBodyGyro-BandsEnergyOld-32', 'fBodyGyro-BandsEnergyOld-33', 'fBodyGyro-BandsEnergyOld-34', 'fBodyGyro-BandsEnergyOld-35', 'fBodyGyro-BandsEnergyOld-36', 'fBodyGyro-BandsEnergyOld-37', 'fBodyGyro-BandsEnergyOld-38', 'fBodyGyro-BandsEnergyOld-39', 'fBodyGyro-BandsEnergyOld-40', 'fBodyGyro-BandsEnergyOld-41', 'fBodyGyro-BandsEnergyOld-42', 'fBodyAccMag-Mean-1', 'fBodyAccMag-STD-1', 'fBodyAccMag-Mad-1', 'fBodyAccMag-Max-1', 'fBodyAccMag-Min-1', 'fBodyAccMag-SMA-1', 'fBodyAccMag-Energy-1', 'fBodyAccMag-IQR-1', 'fBodyAccMag-ropy-1', 'fBodyAccMag-MaxInds-1', 'fBodyAccMag-MeanFreq-1', 'fBodyAccMag-Skewness-1', 'fBodyAccMag-Kurtosis-1', 'fBodyAccJerkMag-Mean-1', 'fBodyAccJerkMag-STD-1', 'fBodyAccJerkMag-Mad-1', 'fBodyAccJerkMag-Max-1', 'fBodyAccJerkMag-Min-1', 'fBodyAccJerkMag-SMA-1', 'fBodyAccJerkMag-Energy-1', 'fBodyAccJerkMag-IQR-1', 'fBodyAccJerkMag-ropy-1', 'fBodyAccJerkMag-MaxInds-1', 'fBodyAccJerkMag-MeanFreq-1', 'fBodyAccJerkMag-Skewness-1', 'fBodyAccJerkMag-Kurtosis-1', 'fBodyGyroMag-Mean-1', 'fBodyGyroMag-STD-1', 'fBodyGyroMag-Mad-1', 'fBodyGyroMag-Max-1', 'fBodyGyroMag-Min-1', 'fBodyGyroMag-SMA-1', 'fBodyGyroMag-Energy-1', 'fBodyGyroMag-IQR-1', 'fBodyGyroMag-ropy-1', 'fBodyGyroMag-MaxInds-1', 'fBodyGyroMag-MeanFreq-1', 'fBodyGyroMag-Skewness-1', 'fBodyGyroMag-Kurtosis-1', 'fBodyGyroJerkMag-Mean-1', 'fBodyGyroJerkMag-STD-1', 'fBodyGyroJerkMag-Mad-1', 'fBodyGyroJerkMag-Max-1', 'fBodyGyroJerkMag-Min-1', 'fBodyGyroJerkMag-SMA-1', 'fBodyGyroJerkMag-Energy-1', 'fBodyGyroJerkMag-IQR-1', 'fBodyGyroJerkMag-ropy-1', 'fBodyGyroJerkMag-MaxInds-1', 'fBodyGyroJerkMag-MeanFreq-1', 'fBodyGyroJerkMag-Skewness-1', 'fBodyGyroJerkMag-Kurtosis-1', 'tBodyAcc-AngleWRTGravity-1', 'tBodyAccJerk-AngleWRTGravity-1', 'tBodyGyro-AngleWRTGravity-1', 'tBodyGyroJerk-AngleWRTGravity-1', 'tXAxisAcc-AngleWRTGravity-1', 'tYAxisAcc-AngleWRTGravity-1', 'tZAxisAcc-AngleWRTGravity-1']\n",
    "classes = ['WALKING','WALKING_UPSTAIRS','WALKING_DOWNSTAIRS','SITTING','STANDING','LAYING','STAND_TO_SIT','SIT_TO_STAND','SIT_TO_LIE','LIE_TO_SIT','STAND_TO_LIE','LIE_TO_STAND']  "
   ]
  },
  {
   "cell_type": "markdown",
   "metadata": {},
   "source": [
    "# (e) Split data into train, test, and validation."
   ]
  },
  {
   "cell_type": "code",
   "execution_count": 4,
   "metadata": {},
   "outputs": [
    {
     "name": "stdout",
     "output_type": "stream",
     "text": [
      "TrainX shape =  (8742, 561)\n",
      "TestX shape =  (1093, 561)\n",
      "ValX shape =  (1093, 561)\n"
     ]
    }
   ],
   "source": [
    "X_train, X_val_test, y_train, y_val_test = train_test_split(X, y, test_size=0.2, random_state=1)\n",
    "X_test, X_val, y_test, y_val = train_test_split(X_val_test, y_val_test, test_size=0.5, random_state=3)\n",
    "\n",
    "print('TrainX shape = ', X_train.shape)\n",
    "print('TestX shape = ', X_test.shape)\n",
    "print('ValX shape = ', X_val.shape)"
   ]
  },
  {
   "cell_type": "markdown",
   "metadata": {},
   "source": [
    "# (c) Data pre-processing."
   ]
  },
  {
   "cell_type": "code",
   "execution_count": 5,
   "metadata": {},
   "outputs": [
    {
     "name": "stdout",
     "output_type": "stream",
     "text": [
      "Train y shape =  (8742, 12)\n",
      "Test y shape =  (1093, 12)\n",
      "Val y shape =  (1093, 12)\n"
     ]
    }
   ],
   "source": [
    "y_train_categorical = to_categorical(y_train)\n",
    "y_test_categorical = to_categorical(y_test)\n",
    "y_val_categorical = to_categorical(y_val)\n",
    "\n",
    "print('Train y shape = ', y_train_categorical.shape)\n",
    "print('Test y shape = ', y_test_categorical.shape)\n",
    "print('Val y shape = ', y_val_categorical.shape)"
   ]
  },
  {
   "cell_type": "markdown",
   "metadata": {},
   "source": [
    "# Check for missing data"
   ]
  },
  {
   "cell_type": "code",
   "execution_count": 55,
   "metadata": {},
   "outputs": [
    {
     "name": "stdout",
     "output_type": "stream",
     "text": [
      "No missing data in the train set :)\n",
      "No missing data in the test set :)\n",
      "No missing data in the Validation set :)\n"
     ]
    }
   ],
   "source": [
    "MissingMatrix = np.isnan(X_train)\n",
    "MissingMatrix2 = np.isnan(y_train)\n",
    "if np.sum(MissingMatrix) > 0 or np.sum(MissingMatrix2) > 0:\n",
    "    print('Train set contains missing data !!')\n",
    "else:\n",
    "    print('No missing data in the train set :)')\n",
    "    \n",
    "MissingMatrix = np.isnan(X_test)\n",
    "MissingMatrix2 = np.isnan(y_test)\n",
    "if np.sum(MissingMatrix) > 0 or np.sum(MissingMatrix2) > 0:\n",
    "    print('Test set contains missing data !!')\n",
    "else:\n",
    "    print('No missing data in the test set :)')\n",
    "    \n",
    "MissingMatrix = np.isnan(X_val)\n",
    "MissingMatrix2 = np.isnan(y_val)\n",
    "if np.sum(MissingMatrix) > 0 or np.sum(MissingMatrix2) > 0:\n",
    "    print('Validation set contains missing data !!')\n",
    "else:\n",
    "    print('No missing data in the Validation set :)')\n",
    "    "
   ]
  },
  {
   "cell_type": "markdown",
   "metadata": {},
   "source": [
    "# (d) Data exploration."
   ]
  },
  {
   "cell_type": "markdown",
   "metadata": {},
   "source": [
    "# Number of samples in each class output type"
   ]
  },
  {
   "cell_type": "code",
   "execution_count": 143,
   "metadata": {},
   "outputs": [
    {
     "name": "stdout",
     "output_type": "stream",
     "text": [
      "For the Train dataset\n",
      "Class :  0  :  WALKING  :  1367\n",
      "Class :  1  :  WALKING_UPSTAIRS  :  1232\n",
      "Class :  2  :  WALKING_DOWNSTAIRS  :  1147\n",
      "Class :  3  :  SITTING  :  1445\n",
      "Class :  4  :  STANDING  :  1581\n",
      "Class :  5  :  LAYING  :  1553\n",
      "Class :  6  :  STAND_TO_SIT  :  53\n",
      "Class :  7  :  SIT_TO_STAND  :  25\n",
      "Class :  8  :  SIT_TO_LIE  :  84\n",
      "Class :  9  :  LIE_TO_SIT  :  70\n",
      "Class :  10  :  STAND_TO_LIE  :  114\n",
      "Class :  11  :  LIE_TO_STAND  :  71\n",
      "For the Test dataset\n",
      "Class :  0  :  WALKING  :  198\n",
      "Class :  1  :  WALKING_UPSTAIRS  :  152\n",
      "Class :  2  :  WALKING_DOWNSTAIRS  :  125\n",
      "Class :  3  :  SITTING  :  185\n",
      "Class :  4  :  STANDING  :  194\n",
      "Class :  5  :  LAYING  :  192\n",
      "Class :  6  :  STAND_TO_SIT  :  9\n",
      "Class :  7  :  SIT_TO_STAND  :  3\n",
      "Class :  8  :  SIT_TO_LIE  :  9\n",
      "Class :  9  :  LIE_TO_SIT  :  9\n",
      "Class :  10  :  STAND_TO_LIE  :  11\n",
      "Class :  11  :  LIE_TO_STAND  :  6\n",
      "For the Validation dataset\n",
      "Class :  0  :  WALKING  :  157\n",
      "Class :  1  :  WALKING_UPSTAIRS  :  160\n",
      "Class :  2  :  WALKING_DOWNSTAIRS  :  135\n",
      "Class :  3  :  SITTING  :  171\n",
      "Class :  4  :  STANDING  :  203\n",
      "Class :  5  :  LAYING  :  213\n",
      "Class :  6  :  STAND_TO_SIT  :  8\n",
      "Class :  7  :  SIT_TO_STAND  :  5\n",
      "Class :  8  :  SIT_TO_LIE  :  14\n",
      "Class :  9  :  LIE_TO_SIT  :  6\n",
      "Class :  10  :  STAND_TO_LIE  :  14\n",
      "Class :  11  :  LIE_TO_STAND  :  7\n"
     ]
    }
   ],
   "source": [
    "print('For the Train dataset')\n",
    "for i in range(len(classes)):\n",
    "    print('Class : ', i , ' : ', classes[i] , ' : ', np.sum(y_train == i))\n",
    "\n",
    "print('For the Test dataset')\n",
    "for i in range(len(classes)):\n",
    "    print('Class : ', i , ' : ', classes[i] , ' : ', np.sum(y_test == i))\n",
    "\n",
    "print('For the Validation dataset')\n",
    "for i in range(len(classes)):\n",
    "    print('Class : ', i, ' : ' ,classes[i] , ' : ', np.sum(y_val == i))"
   ]
  },
  {
   "cell_type": "markdown",
   "metadata": {},
   "source": [
    "# Histogram"
   ]
  },
  {
   "cell_type": "code",
   "execution_count": 149,
   "metadata": {},
   "outputs": [],
   "source": [
    "selectedFeatures_index = [41, 9, 52, 228, 202, 70, 433, 193, 123, 121, 243, 6, 83, 502, 541]"
   ]
  },
  {
   "cell_type": "code",
   "execution_count": 152,
   "metadata": {},
   "outputs": [
    {
     "data": {
      "image/png": "[encoded data removed]",
      "text/plain": [
       "<Figure size 1440x1440 with 15 Axes>"
      ]
     },
     "metadata": {
      "needs_background": "light"
     },
     "output_type": "display_data"
    }
   ],
   "source": [
    "fig,axs = plt.subplots(5,3, figsize=(20,20))\n",
    "for i,feat in enumerate(selectedFeatures_index):\n",
    "    plt.subplot(5,3,i+1)\n",
    "    plt.title(features[feat])\n",
    "    plt.hist(X_train[:,feat])"
   ]
  },
  {
   "cell_type": "markdown",
   "metadata": {},
   "source": [
    "# Fishers_criterion"
   ]
  },
  {
   "cell_type": "code",
   "execution_count": 41,
   "metadata": {},
   "outputs": [],
   "source": [
    "def Fishers_criterion(X,y,classList, featureIndex):\n",
    "    \n",
    "    d = featureIndex\n",
    "    \n",
    "    mean_d = np.mean(X[:,d])\n",
    "    mean_kd_List = []\n",
    "    Numerator = 0\n",
    "    for classX in classList:\n",
    "        \n",
    "        y_new = (y == classX)\n",
    "        sample_index = 0\n",
    "        mean_kd = 0\n",
    "        for yCheck in y_new:\n",
    "            if yCheck:\n",
    "                mean_kd += X[sample_index, d]\n",
    "            \n",
    "            sample_index += 1\n",
    "            \n",
    "        mean_kd = mean_kd / np.sum(y_new)\n",
    "        mean_kd_List.append(mean_kd)\n",
    "        \n",
    "        sample_index = 0\n",
    "        for yCheck in y_new:\n",
    "            if yCheck:\n",
    "                Numerator += (X[sample_index,d] - mean_kd)**2\n",
    "    \n",
    "    denominator = 0\n",
    "    index = 0\n",
    "    for classX in classList:\n",
    "        denominator += (mean_d - mean_kd_List[index])\n",
    "        index += 1\n",
    "        \n",
    "    return Numerator / denominator"
   ]
  },
  {
   "cell_type": "code",
   "execution_count": 43,
   "metadata": {},
   "outputs": [
    {
     "name": "stdout",
     "output_type": "stream",
     "text": [
      "tBodyAcc-Mean-1      346.2946737127763\n",
      "tBodyAcc-Mean-2      -1291.523857992131\n",
      "tBodyAcc-Mean-3      -201.6430868433005\n",
      "tBodyAcc-STD-1      -2027.6905052563761\n",
      "tBodyAcc-STD-2      -518.2543566783183\n",
      "tBodyAcc-STD-3      -307.4148314154306\n",
      "tBodyAcc-Mad-1      -1881.8039471049865\n",
      "tBodyAcc-Mad-2      -419.1340663207205\n",
      "tBodyAcc-Mad-3      -232.24582131523792\n",
      "tBodyAcc-Max-1      -4929.107662580646\n",
      "tBodyAcc-Max-2      -375.21369800374674\n",
      "tBodyAcc-Max-3      -352.08061423459964\n",
      "tBodyAcc-Min-1      746.2626528052139\n",
      "tBodyAcc-Min-2      1379.1816420338805\n",
      "tBodyAcc-Min-3      527.1803835701816\n",
      "tBodyAcc-SMA-1      -366.70343700650545\n",
      "tBodyAcc-Energy-1      -615.3884824126255\n",
      "tBodyAcc-Energy-2      -65.02657545768645\n",
      "tBodyAcc-Energy-3      -52.5042777875331\n",
      "tBodyAcc-IQR-1      -1460.3731755675592\n",
      "tBodyAcc-IQR-2      -252.61864586924926\n",
      "tBodyAcc-IQR-3      -153.8873772963894\n",
      "tBodyAcc-ropy-1      -1705.0996781101687\n",
      "tBodyAcc-ropy-1      -1932.0762961223443\n",
      "tBodyAcc-ropy-1      -698.4205681984639\n",
      "tBodyAcc-ARCoeff-1      671.6351304713354\n",
      "tBodyAcc-ARCoeff-2      -614.2194799204639\n",
      "tBodyAcc-ARCoeff-3      775.8568892291053\n",
      "tBodyAcc-ARCoeff-4      874.8829528904765\n",
      "tBodyAcc-ARCoeff-5      643.2014430771025\n",
      "tBodyAcc-ARCoeff-6      -1954.141723315826\n",
      "tBodyAcc-ARCoeff-7      2733.6868526042626\n",
      "tBodyAcc-ARCoeff-8      -3588.1878323754036\n",
      "tBodyAcc-ARCoeff-9      1212.3300095999673\n",
      "tBodyAcc-ARCoeff-10      -1834.6552908835447\n",
      "tBodyAcc-ARCoeff-11      239.97414995599735\n",
      "tBodyAcc-ARCoeff-12      -250.2762198611411\n",
      "tBodyAcc-Correlation-1      3204.9507751770047\n",
      "tBodyAcc-Correlation-2      -2188.460548795115\n",
      "tBodyAcc-Correlation-3      -421.92047771133304\n",
      "tGravityAcc-Mean-1      -26957.364174532602\n",
      "tGravityAcc-Mean-2      -2101.1277495002287\n",
      "tGravityAcc-Mean-3      -11018.819217040469\n",
      "tGravityAcc-STD-1      -58.87762550870549\n",
      "tGravityAcc-STD-2      -59.560579565783506\n",
      "tGravityAcc-STD-3      -45.685505536688055\n",
      "tGravityAcc-Mad-1      -55.75148255817907\n",
      "tGravityAcc-Mad-2      -57.37994307033903\n",
      "tGravityAcc-Mad-3      -44.93708953535567\n",
      "tGravityAcc-Max-1      -2784.1675740143546\n",
      "tGravityAcc-Max-2      -773.8311122825874\n",
      "tGravityAcc-Max-3      -1219.3344259760747\n",
      "tGravityAcc-Min-1      3387.086294799823\n",
      "tGravityAcc-Min-2      1778.2446511441267\n",
      "tGravityAcc-Min-3      1657.2250589193134\n",
      "tGravityAcc-SMA-1      -709.421814521286\n",
      "tGravityAcc-Energy-1      15581.804411087905\n",
      "tGravityAcc-Energy-2      -14799.579295411586\n",
      "tGravityAcc-Energy-3      5152.503003278431\n",
      "tGravityAcc-IQR-1      -43.999252083693534\n",
      "tGravityAcc-IQR-2      -48.93409909706269\n",
      "tGravityAcc-IQR-3      -41.77455475164875\n",
      "tGravityAcc-ropy-1      -329.42361696178557\n",
      "tGravityAcc-ropy-1      -207.5418184350434\n",
      "tGravityAcc-ropy-1      -212.56221473876133\n",
      "tGravityAcc-ARCoeff-1      240.45704664398727\n",
      "tGravityAcc-ARCoeff-2      -256.74604267098744\n",
      "tGravityAcc-ARCoeff-3      284.96565533196053\n",
      "tGravityAcc-ARCoeff-4      -328.37343619600625\n",
      "tGravityAcc-ARCoeff-5      135.7194937977448\n",
      "tGravityAcc-ARCoeff-6      -111.0349822079693\n",
      "tGravityAcc-ARCoeff-7      92.71683915736753\n",
      "tGravityAcc-ARCoeff-8      -82.33794074244346\n",
      "tGravityAcc-ARCoeff-9      140.57899147515525\n",
      "tGravityAcc-ARCoeff-10      -129.5670390671661\n",
      "tGravityAcc-ARCoeff-11      121.61812589592449\n",
      "tGravityAcc-ARCoeff-12      -116.86630120149617\n",
      "tGravityAcc-Correlation-1      2859.7154596537307\n",
      "tGravityAcc-Correlation-2      -12347.159437661523\n",
      "tGravityAcc-Correlation-3      -3691.7685128571056\n",
      "tBodyAccJerk-Mean-1      261.27578691585086\n",
      "tBodyAccJerk-Mean-2      -855.9431775640007\n",
      "tBodyAccJerk-Mean-3      -77.31214278396084\n",
      "tBodyAccJerk-STD-1      5043.411978932907\n",
      "tBodyAccJerk-STD-2      -11469.518758613778\n",
      "tBodyAccJerk-STD-3      -43220.83989239945\n",
      "tBodyAccJerk-Mad-1      4153.598497428412\n",
      "tBodyAccJerk-Mad-2      -14870.401794360288\n",
      "tBodyAccJerk-Mad-3      -30584.997514143637\n",
      "tBodyAccJerk-Max-1      -225107.71732624955\n",
      "tBodyAccJerk-Max-2      -3832.643543055823\n",
      "tBodyAccJerk-Max-3      -5717.114674679865\n",
      "tBodyAccJerk-Min-1      -7109.8221305214765\n",
      "tBodyAccJerk-Min-2      6432.916636563127\n",
      "tBodyAccJerk-Min-3      -53368.14160211756\n",
      "tBodyAccJerk-SMA-1      17556.967682542574\n",
      "tBodyAccJerk-Energy-1      872.7236982226261\n",
      "tBodyAccJerk-Energy-2      1310.8475982947275\n",
      "tBodyAccJerk-Energy-3      472.84296900153544\n",
      "tBodyAccJerk-IQR-1      3551.377881713675\n",
      "tBodyAccJerk-IQR-2      -13145.709651990841\n",
      "tBodyAccJerk-IQR-3      -9556.549887911944\n",
      "tBodyAccJerk-ropy-1      -2996.3905658873027\n",
      "tBodyAccJerk-ropy-1      -3279.3267895824406\n",
      "tBodyAccJerk-ropy-1      -2536.536701206829\n",
      "tBodyAccJerk-ARCoeff-1      828.0866770149248\n",
      "tBodyAccJerk-ARCoeff-2      -1159.7099179251816\n",
      "tBodyAccJerk-ARCoeff-3      612.3168659626423\n",
      "tBodyAccJerk-ARCoeff-4      283.558182292002\n",
      "tBodyAccJerk-ARCoeff-5      978.2199106103681\n",
      "tBodyAccJerk-ARCoeff-6      -11887.186321414421\n",
      "tBodyAccJerk-ARCoeff-7      756.9344408637791\n",
      "tBodyAccJerk-ARCoeff-8      907.9580677529909\n",
      "tBodyAccJerk-ARCoeff-9      1516.6844235854069\n",
      "tBodyAccJerk-ARCoeff-10      1327.3841515418019\n",
      "tBodyAccJerk-ARCoeff-11      77.58757423442766\n",
      "tBodyAccJerk-ARCoeff-12      452.90088756532106\n",
      "tBodyAccJerk-Correlation-1      -3688.766375907915\n",
      "tBodyAccJerk-Correlation-2      -72480.31260477872\n",
      "tBodyAccJerk-Correlation-3      -2688.0461556174378\n",
      "tBodyGyro-Mean-1      122.88725534717699\n",
      "tBodyGyro-Mean-2      -37.564241817811\n",
      "tBodyGyro-Mean-3      150.04967951119974\n",
      "tBodyGyro-STD-1      -1225.5251342448157\n",
      "tBodyGyro-STD-2      -618.8721482128445\n",
      "tBodyGyro-STD-3      -312.5175550690346\n",
      "tBodyGyro-Mad-1      -1333.6303007585536\n",
      "tBodyGyro-Mad-2      -595.0536287700587\n",
      "tBodyGyro-Mad-3      -293.11325191182823\n",
      "tBodyGyro-Max-1      -498.15140332555444\n",
      "tBodyGyro-Max-2      -609.5532578799556\n",
      "tBodyGyro-Max-3      -320.72026966235086\n",
      "tBodyGyro-Min-1      973.8970611052563\n",
      "tBodyGyro-Min-2      448.37420886927373\n",
      "tBodyGyro-Min-3      412.47120017235864\n",
      "tBodyGyro-SMA-1      -670.175943197605\n",
      "tBodyGyro-Energy-1      -299.5955113969668\n",
      "tBodyGyro-Energy-2      -287.87016723026125\n",
      "tBodyGyro-Energy-3      -85.80524771048836\n",
      "tBodyGyro-IQR-1      -1597.3796579762034\n",
      "tBodyGyro-IQR-2      -612.232702636407\n",
      "tBodyGyro-IQR-3      -274.2384421733757\n",
      "tBodyGyro-ropy-1      -1335.085626894849\n",
      "tBodyGyro-ropy-1      -411.5026043135051\n",
      "tBodyGyro-ropy-1      -2030.642299397138\n",
      "tBodyGyro-ARCoeff-1      1594.528653136714\n",
      "tBodyGyro-ARCoeff-2      -993.2157916214188\n",
      "tBodyGyro-ARCoeff-3      35.28008839467155\n",
      "tBodyGyro-ARCoeff-4      -630.3975278259694\n",
      "tBodyGyro-ARCoeff-5      95.59510368832512\n",
      "tBodyGyro-ARCoeff-6      -121.77236903350695\n",
      "tBodyGyro-ARCoeff-7      806.5541215269527\n",
      "tBodyGyro-ARCoeff-8      -2542.7389624542143\n",
      "tBodyGyro-ARCoeff-9      1520.7820625860886\n",
      "tBodyGyro-ARCoeff-10      -1983.9684730326253\n",
      "tBodyGyro-ARCoeff-11      1149.2869918811994\n",
      "tBodyGyro-ARCoeff-12      -212.92897033233425\n",
      "tBodyGyro-Correlation-1      -2463.374636360201\n",
      "tBodyGyro-Correlation-2      1118.7521877693953\n",
      "tBodyGyro-Correlation-3      567.0005037744519\n",
      "tBodyGyroJerk-Mean-1      -5624.789616263992\n",
      "tBodyGyroJerk-Mean-2      -406.7359023426579\n",
      "tBodyGyroJerk-Mean-3      100.17179186836835\n",
      "tBodyGyroJerk-STD-1      -7811.285591995061\n",
      "tBodyGyroJerk-STD-2      20533.843353431632\n",
      "tBodyGyroJerk-STD-3      -4877.479166109234\n",
      "tBodyGyroJerk-Mad-1      -14539.740762674086\n",
      "tBodyGyroJerk-Mad-2      11766.896352394857\n",
      "tBodyGyroJerk-Mad-3      -5435.043056699472\n",
      "tBodyGyroJerk-Max-1      -2160.2046611787796\n",
      "tBodyGyroJerk-Max-2      -1464814.9020190071\n",
      "tBodyGyroJerk-Max-3      -3779.2797405964066\n",
      "tBodyGyroJerk-Min-1      3881.283194772033\n",
      "tBodyGyroJerk-Min-2      -25350.23162461965\n",
      "tBodyGyroJerk-Min-3      3234.795886592594\n",
      "tBodyGyroJerk-SMA-1      -16701.861600659864\n",
      "tBodyGyroJerk-Energy-1      740.0569876656381\n",
      "tBodyGyroJerk-Energy-2      462.96330079115717\n",
      "tBodyGyroJerk-Energy-3      642.1758770961136\n",
      "tBodyGyroJerk-IQR-1      -94017.329568776\n",
      "tBodyGyroJerk-IQR-2      6447.007013756065\n",
      "tBodyGyroJerk-IQR-3      -6579.1775445190915\n",
      "tBodyGyroJerk-ropy-1      -3169.08439954157\n",
      "tBodyGyroJerk-ropy-1      -2305.89048138783\n",
      "tBodyGyroJerk-ropy-1      -2192.893576628721\n",
      "tBodyGyroJerk-ARCoeff-1      1562.0331472911753\n",
      "tBodyGyroJerk-ARCoeff-2      -816.4439656759747\n",
      "tBodyGyroJerk-ARCoeff-3      458.672647746615\n",
      "tBodyGyroJerk-ARCoeff-4      270.159538878442\n",
      "tBodyGyroJerk-ARCoeff-5      340.28942086139887\n",
      "tBodyGyroJerk-ARCoeff-6      -552.9175448471844\n",
      "tBodyGyroJerk-ARCoeff-7      1566.7729364222378\n",
      "tBodyGyroJerk-ARCoeff-8      28.49133994706895\n",
      "tBodyGyroJerk-ARCoeff-9      1805.1532537560545\n",
      "tBodyGyroJerk-ARCoeff-10      -2892.0999340505987\n",
      "tBodyGyroJerk-ARCoeff-11      384.9498796892645\n",
      "tBodyGyroJerk-ARCoeff-12      163.34564370329915\n",
      "tBodyGyroJerk-Correlation-1      -1542.3973031396806\n",
      "tBodyGyroJerk-Correlation-2      415.8633754726586\n",
      "tBodyGyroJerk-Correlation-3      491.12516715409856\n",
      "tBodyAccMag-Mean-1      -405.5185798582338\n",
      "tBodyAccMag-STD-1      -309.0690966066833\n"
     ]
    },
    {
     "name": "stdout",
     "output_type": "stream",
     "text": [
      "tBodyAccMag-Mad-1      -244.08358372113594\n",
      "tBodyAccMag-Max-1      -696.9583772618921\n",
      "tBodyAccMag-Min-1      -199.99396117987868\n",
      "tBodyAccMag-SMA-1      -405.5185798582338\n",
      "tBodyAccMag-Energy-1      -142.39168634442436\n",
      "tBodyAccMag-IQR-1      -153.39879258534057\n",
      "tBodyAccMag-ropy-1      -1515.1693568743133\n",
      "tBodyAccMag-ARCoeff-1      140.30945438983568\n",
      "tBodyAccMag-ARCoeff-2      -109.2216392288144\n",
      "tBodyAccMag-ARCoeff-3      90.96010140760174\n",
      "tBodyAccMag-ARCoeff-4      -84.81639392372719\n",
      "tGravityAccMag-Mean-1      -405.5185798582338\n",
      "tGravityAccMag-STD-1      -309.0690966066833\n",
      "tGravityAccMag-Mad-1      -244.08358372113594\n",
      "tGravityAccMag-Max-1      -696.9583772618921\n",
      "tGravityAccMag-Min-1      -199.99396117987868\n",
      "tGravityAccMag-SMA-1      -405.5185798582338\n",
      "tGravityAccMag-Energy-1      -142.39168634442436\n",
      "tGravityAccMag-IQR-1      -153.39879258534057\n",
      "tGravityAccMag-ropy-1      -1515.1693568743133\n",
      "tGravityAccMag-ARCoeff-1      140.30945438983568\n",
      "tGravityAccMag-ARCoeff-2      -109.2216392288144\n",
      "tGravityAccMag-ARCoeff-3      90.96010140760174\n",
      "tGravityAccMag-ARCoeff-4      -84.81639392372719\n",
      "tBodyAccJerkMag-Mean-1      15689.115598708917\n",
      "tBodyAccJerkMag-STD-1      59499.56792907169\n",
      "tBodyAccJerkMag-Mad-1      17214.88167612318\n",
      "tBodyAccJerkMag-Max-1      -15890.4193186738\n",
      "tBodyAccJerkMag-Min-1      3644.2062761538104\n",
      "tBodyAccJerkMag-SMA-1      15689.115598708917\n",
      "tBodyAccJerkMag-Energy-1      861.0409031670557\n",
      "tBodyAccJerkMag-IQR-1      8874.233255387011\n",
      "tBodyAccJerkMag-ropy-1      -3455.0434410113917\n",
      "tBodyAccJerkMag-ARCoeff-1      1510.4311198487976\n",
      "tBodyAccJerkMag-ARCoeff-2      -2098.4758172790785\n",
      "tBodyAccJerkMag-ARCoeff-3      3352.8396554317865\n",
      "tBodyAccJerkMag-ARCoeff-4      -8500.365646006177\n",
      "tBodyGyroMag-Mean-1      -668.991602018128\n",
      "tBodyGyroMag-STD-1      -516.2188519619626\n",
      "tBodyGyroMag-Mad-1      -571.3081185044618\n",
      "tBodyGyroMag-Max-1      -497.70785366638825\n",
      "tBodyGyroMag-Min-1      -255.18771537344617\n",
      "tBodyGyroMag-SMA-1      -668.991602018128\n",
      "tBodyGyroMag-Energy-1      -258.436875595323\n",
      "tBodyGyroMag-IQR-1      -568.0046342403245\n",
      "tBodyGyroMag-ropy-1      -3394.165660391125\n",
      "tBodyGyroMag-ARCoeff-1      939.4948183449752\n",
      "tBodyGyroMag-ARCoeff-2      -821.7924171551593\n",
      "tBodyGyroMag-ARCoeff-3      65.20727721523008\n",
      "tBodyGyroMag-ARCoeff-4      -101.6098665977811\n",
      "tBodyGyroJerkMag-Mean-1      -19784.69069494845\n",
      "tBodyGyroJerkMag-STD-1      -6540.149736345576\n",
      "tBodyGyroJerkMag-Mad-1      -6432.316597580882\n",
      "tBodyGyroJerkMag-Max-1      -5987.868397311854\n",
      "tBodyGyroJerkMag-Min-1      4305.205078619904\n",
      "tBodyGyroJerkMag-SMA-1      -19784.69069494845\n",
      "tBodyGyroJerkMag-Energy-1      464.8555830102983\n",
      "tBodyGyroJerkMag-IQR-1      -6335.454408777969\n",
      "tBodyGyroJerkMag-ropy-1      -2786.2583047280314\n",
      "tBodyGyroJerkMag-ARCoeff-1      1595.8460262113745\n",
      "tBodyGyroJerkMag-ARCoeff-2      -761.6481870325316\n",
      "tBodyGyroJerkMag-ARCoeff-3      5902.9310176562185\n",
      "tBodyGyroJerkMag-ARCoeff-4      4204.689302844445\n",
      "fBodyAcc-Mean-1      -3943.229949837471\n",
      "fBodyAcc-Mean-2      -1334.5098565171156\n",
      "fBodyAcc-Mean-3      -722.1638223620582\n",
      "fBodyAcc-STD-1      -1811.9989871557439\n",
      "fBodyAcc-STD-2      -391.41809282252626\n",
      "fBodyAcc-STD-3      -234.58838100936381\n",
      "fBodyAcc-Mad-1      -3549.7113393888962\n",
      "fBodyAcc-Mad-2      -1134.496040797522\n",
      "fBodyAcc-Mad-3      -656.7932180572552\n",
      "fBodyAcc-Max-1      -1349.0960951261266\n",
      "fBodyAcc-Max-2      -212.7668467014196\n",
      "fBodyAcc-Max-3      -136.60130336239536\n",
      "fBodyAcc-Min-1      -456.1586777416869\n",
      "fBodyAcc-Min-2      -108.3728122411898\n",
      "fBodyAcc-Min-3      -79.1887008555359\n",
      "fBodyAcc-SMA-1      -1504.55670424624\n",
      "fBodyAcc-Energy-1      -19320.8740465681\n",
      "fBodyAcc-Energy-2      -113.9172117204955\n",
      "fBodyAcc-Energy-3      -84.73391417872654\n",
      "fBodyAcc-IQR-1      -36643.63733789534\n",
      "fBodyAcc-IQR-2      -3771.020708150198\n",
      "fBodyAcc-IQR-3      -4238.190062579921\n",
      "fBodyAcc-ropy-1      -2708.423632048702\n",
      "fBodyAcc-ropy-1      -2882.21593721532\n",
      "fBodyAcc-ropy-1      -2385.843351436951\n",
      "fBodyAcc-MaxInds-1      79.6262708840174\n",
      "fBodyAcc-MaxInds-2      83.65356264779003\n",
      "fBodyAcc-MaxInds-3      157.32696775452058\n",
      "fBodyAcc-MeanFreq-1      185.40962737289533\n",
      "fBodyAcc-MeanFreq-2      61.14690377674844\n",
      "fBodyAcc-MeanFreq-3      200.43946803086982\n",
      "fBodyAcc-Skewness-1      -1173.374768695212\n",
      "fBodyAcc-Kurtosis-1      -1275.5095006241654\n",
      "fBodyAcc-Skewness-1      -82.84683602592806\n",
      "fBodyAcc-Kurtosis-1      -97.10273743363243\n",
      "fBodyAcc-Skewness-1      -115.84452120360201\n",
      "fBodyAcc-Kurtosis-1      -172.8079333273603\n",
      "fBodyAcc-BandsEnergyOld-1      -3153.3212271209536\n",
      "fBodyAcc-BandsEnergyOld-2      800.054742056164\n",
      "fBodyAcc-BandsEnergyOld-3      825.6907167884248\n",
      "fBodyAcc-BandsEnergyOld-4      817.1380579992302\n",
      "fBodyAcc-BandsEnergyOld-5      754.9850547293394\n",
      "fBodyAcc-BandsEnergyOld-6      919.311900581152\n",
      "fBodyAcc-BandsEnergyOld-7      1191.8270261288594\n",
      "fBodyAcc-BandsEnergyOld-8      -681.2197495698941\n",
      "fBodyAcc-BandsEnergyOld-9      -8614.089612468691\n",
      "fBodyAcc-BandsEnergyOld-10      913.0658770905179\n",
      "fBodyAcc-BandsEnergyOld-11      811.4444224072992\n",
      "fBodyAcc-BandsEnergyOld-12      4515.162121730244\n",
      "fBodyAcc-BandsEnergyOld-13      -15345.649614557005\n",
      "fBodyAcc-BandsEnergyOld-14      946.3827233314183\n",
      "fBodyAcc-BandsEnergyOld-15      -58.94459857258014\n",
      "fBodyAcc-BandsEnergyOld-16      1165.3822846770654\n",
      "fBodyAcc-BandsEnergyOld-17      1024.831459919985\n",
      "fBodyAcc-BandsEnergyOld-18      -1613.0596553308342\n",
      "fBodyAcc-BandsEnergyOld-19      -1003.8009476853287\n",
      "fBodyAcc-BandsEnergyOld-20      -3109.243179250258\n",
      "fBodyAcc-BandsEnergyOld-21      -1189.2501909305415\n",
      "fBodyAcc-BandsEnergyOld-22      -49.481805378782155\n",
      "fBodyAcc-BandsEnergyOld-23      -96.43980352508159\n",
      "fBodyAcc-BandsEnergyOld-24      1576.1667554589353\n",
      "fBodyAcc-BandsEnergyOld-25      -1442.2581649933982\n",
      "fBodyAcc-BandsEnergyOld-26      -437.68982071960477\n",
      "fBodyAcc-BandsEnergyOld-27      -108.83564894224185\n",
      "fBodyAcc-BandsEnergyOld-28      -1277.6547967732831\n",
      "fBodyAcc-BandsEnergyOld-29      -54.50395150974449\n",
      "fBodyAcc-BandsEnergyOld-30      880.19440929483\n",
      "fBodyAcc-BandsEnergyOld-31      482.32992685499494\n",
      "fBodyAcc-BandsEnergyOld-32      801.1770669408551\n",
      "fBodyAcc-BandsEnergyOld-33      -1563.164094794871\n",
      "fBodyAcc-BandsEnergyOld-34      -1008.907548968696\n",
      "fBodyAcc-BandsEnergyOld-35      -199.3560058616378\n",
      "fBodyAcc-BandsEnergyOld-36      -60.955151944906035\n",
      "fBodyAcc-BandsEnergyOld-37      -70.42570381170209\n",
      "fBodyAcc-BandsEnergyOld-38      463.8916847554655\n",
      "fBodyAcc-BandsEnergyOld-39      -1201.523772271068\n",
      "fBodyAcc-BandsEnergyOld-40      -118.06827222261326\n",
      "fBodyAcc-BandsEnergyOld-41      -79.47413099530773\n",
      "fBodyAcc-BandsEnergyOld-42      2117.9202098831133\n",
      "fBodyAccJerk-Mean-1      6107.550456261997\n",
      "fBodyAccJerk-Mean-2      -7968.472349090264\n",
      "fBodyAccJerk-Mean-3      -15319.447524746267\n",
      "fBodyAccJerk-STD-1      3921.5716195493947\n",
      "fBodyAccJerk-STD-2      -20266.506158874112\n",
      "fBodyAccJerk-STD-3      29155.24539527151\n",
      "fBodyAccJerk-Mad-1      5760.576481071189\n",
      "fBodyAccJerk-Mad-2      -12643.644163440413\n",
      "fBodyAccJerk-Mad-3      -1153859.657365762\n",
      "fBodyAccJerk-Max-1      2493.989862379626\n",
      "fBodyAccJerk-Max-2      -57078.11441279561\n",
      "fBodyAccJerk-Max-3      12090.76098007945\n",
      "fBodyAccJerk-Min-1      1834.7235646804684\n",
      "fBodyAccJerk-Min-2      -13699.83035000131\n",
      "fBodyAccJerk-Min-3      3290.452893918737\n",
      "fBodyAccJerk-SMA-1      -268096.6939351895\n",
      "fBodyAccJerk-Energy-1      872.7287418531888\n",
      "fBodyAccJerk-Energy-2      1303.4022500738995\n",
      "fBodyAccJerk-Energy-3      470.26853824146485\n",
      "fBodyAccJerk-IQR-1      8500.548463366826\n",
      "fBodyAccJerk-IQR-2      -5083.76444686708\n",
      "fBodyAccJerk-IQR-3      -9767.578128853671\n",
      "fBodyAccJerk-ropy-1      -4492.870427578424\n",
      "fBodyAccJerk-ropy-1      -4254.993429674095\n",
      "fBodyAccJerk-ropy-1      -3828.6422806381015\n",
      "fBodyAccJerk-MaxInds-1      2121.528347861288\n",
      "fBodyAccJerk-MaxInds-2      560.9615325999408\n",
      "fBodyAccJerk-MaxInds-3      138.96931134645612\n",
      "fBodyAccJerk-MeanFreq-1      449.5237224376145\n",
      "fBodyAccJerk-MeanFreq-2      285.32310213455503\n",
      "fBodyAccJerk-MeanFreq-3      719.8547586721802\n",
      "fBodyAccJerk-Skewness-1      810.7479545832421\n",
      "fBodyAccJerk-Kurtosis-1      477.4741991359334\n",
      "fBodyAccJerk-Skewness-1      -1661.9972849753185\n",
      "fBodyAccJerk-Kurtosis-1      -344.0521677455928\n",
      "fBodyAccJerk-Skewness-1      -477.7862001925093\n",
      "fBodyAccJerk-Kurtosis-1      -125.63987180582075\n",
      "fBodyAccJerk-BandsEnergyOld-1      834.3815968785585\n",
      "fBodyAccJerk-BandsEnergyOld-2      673.6229777025198\n",
      "fBodyAccJerk-BandsEnergyOld-3      702.9870271609043\n",
      "fBodyAccJerk-BandsEnergyOld-4      698.8485552556622\n",
      "fBodyAccJerk-BandsEnergyOld-5      453.26833629725434\n",
      "fBodyAccJerk-BandsEnergyOld-6      616.9519717954096\n",
      "fBodyAccJerk-BandsEnergyOld-7      384.7080102169269\n",
      "fBodyAccJerk-BandsEnergyOld-8      105.06557242231372\n",
      "fBodyAccJerk-BandsEnergyOld-9      791.1960559131678\n",
      "fBodyAccJerk-BandsEnergyOld-10      833.4982870675484\n"
     ]
    },
    {
     "name": "stdout",
     "output_type": "stream",
     "text": [
      "fBodyAccJerk-BandsEnergyOld-11      554.6589718356898\n",
      "fBodyAccJerk-BandsEnergyOld-12      397.7110526077702\n",
      "fBodyAccJerk-BandsEnergyOld-13      888.7055983696196\n",
      "fBodyAccJerk-BandsEnergyOld-14      874.3027884867209\n",
      "fBodyAccJerk-BandsEnergyOld-15      7039.609912692185\n",
      "fBodyAccJerk-BandsEnergyOld-16      817.0371943721794\n",
      "fBodyAccJerk-BandsEnergyOld-17      980.5845137377555\n",
      "fBodyAccJerk-BandsEnergyOld-18      7472.214660481061\n",
      "fBodyAccJerk-BandsEnergyOld-19      895.5759105014087\n",
      "fBodyAccJerk-BandsEnergyOld-20      6328.08262205447\n",
      "fBodyAccJerk-BandsEnergyOld-21      6180.140248045382\n",
      "fBodyAccJerk-BandsEnergyOld-22      285.61524262241835\n",
      "fBodyAccJerk-BandsEnergyOld-23      1254.2561232517057\n",
      "fBodyAccJerk-BandsEnergyOld-24      1284.8238265577277\n",
      "fBodyAccJerk-BandsEnergyOld-25      2396.238329817791\n",
      "fBodyAccJerk-BandsEnergyOld-26      5262.721167234087\n",
      "fBodyAccJerk-BandsEnergyOld-27      1187.3260031242826\n",
      "fBodyAccJerk-BandsEnergyOld-28      2137.4153249206433\n",
      "fBodyAccJerk-BandsEnergyOld-29      2854.3964371030024\n",
      "fBodyAccJerk-BandsEnergyOld-30      617.2434632915314\n",
      "fBodyAccJerk-BandsEnergyOld-31      369.9987400302095\n",
      "fBodyAccJerk-BandsEnergyOld-32      376.2990556559942\n",
      "fBodyAccJerk-BandsEnergyOld-33      312.30340162551005\n",
      "fBodyAccJerk-BandsEnergyOld-34      563.4429538672708\n",
      "fBodyAccJerk-BandsEnergyOld-35      462.98582408912495\n",
      "fBodyAccJerk-BandsEnergyOld-36      188.75016852168199\n",
      "fBodyAccJerk-BandsEnergyOld-37      895.9498990175307\n",
      "fBodyAccJerk-BandsEnergyOld-38      335.0439851186153\n",
      "fBodyAccJerk-BandsEnergyOld-39      407.773958554032\n",
      "fBodyAccJerk-BandsEnergyOld-40      458.9002644192326\n",
      "fBodyAccJerk-BandsEnergyOld-41      609.3304133942715\n",
      "fBodyAccJerk-BandsEnergyOld-42      386.0035781434473\n",
      "fBodyGyro-Mean-1      -1525.2771741672395\n",
      "fBodyGyro-Mean-2      -1109.4767542303227\n",
      "fBodyGyro-Mean-3      -677.6088967014183\n",
      "fBodyGyro-STD-1      -1174.9363595063128\n",
      "fBodyGyro-STD-2      -554.6296347026474\n",
      "fBodyGyro-STD-3      -248.8638823688577\n",
      "fBodyGyro-Mad-1      -1112.6918881436247\n",
      "fBodyGyro-Mad-2      -737.2325727941429\n",
      "fBodyGyro-Mad-3      -532.7540111688913\n",
      "fBodyGyro-Max-1      -1550.8213680010062\n",
      "fBodyGyro-Max-2      -386.3013898470172\n",
      "fBodyGyro-Max-3      -178.67322092747963\n",
      "fBodyGyro-Min-1      -138.55515522814292\n",
      "fBodyGyro-Min-2      -417.6826625407308\n",
      "fBodyGyro-Min-3      -95.05155229084143\n",
      "fBodyGyro-SMA-1      -1018.198663946078\n",
      "fBodyGyro-Energy-1      -345.6307571183578\n",
      "fBodyGyro-Energy-2      -346.360746742872\n",
      "fBodyGyro-Energy-3      -90.2044080436343\n",
      "fBodyGyro-IQR-1      -4370.7439746376\n",
      "fBodyGyro-IQR-2      -11716.6657262402\n",
      "fBodyGyro-IQR-3      -5064.734798356074\n",
      "fBodyGyro-ropy-1      -2624.0963755868506\n",
      "fBodyGyro-ropy-1      -1691.0747729907034\n",
      "fBodyGyro-ropy-1      -1971.8794975745345\n",
      "fBodyGyro-MaxInds-1      95.71274810544858\n",
      "fBodyGyro-MaxInds-2      417.90815727476445\n",
      "fBodyGyro-MaxInds-3      151.91375348111987\n",
      "fBodyGyro-MeanFreq-1      100.61243278505535\n",
      "fBodyGyro-MeanFreq-2      78.88465237992774\n",
      "fBodyGyro-MeanFreq-3      192.33637968155145\n",
      "fBodyGyro-Skewness-1      -2276.445474345732\n",
      "fBodyGyro-Kurtosis-1      -2969.6611429061745\n",
      "fBodyGyro-Skewness-1      -562.1078424406046\n",
      "fBodyGyro-Kurtosis-1      -280.6629867775174\n",
      "fBodyGyro-Skewness-1      -104.536271761201\n",
      "fBodyGyro-Kurtosis-1      -81.03842736962854\n",
      "fBodyGyro-BandsEnergyOld-1      -197.5066098668359\n",
      "fBodyGyro-BandsEnergyOld-2      2654.3729078274287\n",
      "fBodyGyro-BandsEnergyOld-3      508.34818530459677\n",
      "fBodyGyro-BandsEnergyOld-4      19489.596135648317\n",
      "fBodyGyro-BandsEnergyOld-5      -5500.630661930682\n",
      "fBodyGyro-BandsEnergyOld-6      -863.3682294261224\n",
      "fBodyGyro-BandsEnergyOld-7      -215.0860733212317\n",
      "fBodyGyro-BandsEnergyOld-8      -132.5171712590105\n",
      "fBodyGyro-BandsEnergyOld-9      -325.44150579432676\n",
      "fBodyGyro-BandsEnergyOld-10      646.1995342942887\n",
      "fBodyGyro-BandsEnergyOld-11      -2142.0675947118093\n",
      "fBodyGyro-BandsEnergyOld-12      -162.47086721334054\n",
      "fBodyGyro-BandsEnergyOld-13      -339.9552445552855\n",
      "fBodyGyro-BandsEnergyOld-14      -6417.135619295834\n",
      "fBodyGyro-BandsEnergyOld-15      -144.40984707183426\n",
      "fBodyGyro-BandsEnergyOld-16      514.9547374673974\n",
      "fBodyGyro-BandsEnergyOld-17      266.98236311808375\n",
      "fBodyGyro-BandsEnergyOld-18      306.063767254326\n",
      "fBodyGyro-BandsEnergyOld-19      174.89714264715104\n",
      "fBodyGyro-BandsEnergyOld-20      508.8384537503488\n",
      "fBodyGyro-BandsEnergyOld-21      811.3755377085738\n",
      "fBodyGyro-BandsEnergyOld-22      -174.3413991516826\n",
      "fBodyGyro-BandsEnergyOld-23      -224.51310082778517\n",
      "fBodyGyro-BandsEnergyOld-24      333.53259836618287\n",
      "fBodyGyro-BandsEnergyOld-25      234.39587660573963\n",
      "fBodyGyro-BandsEnergyOld-26      2124.5305546519876\n",
      "fBodyGyro-BandsEnergyOld-27      -332.97546790857757\n",
      "fBodyGyro-BandsEnergyOld-28      302.74393342290625\n",
      "fBodyGyro-BandsEnergyOld-29      -57.67431853840122\n",
      "fBodyGyro-BandsEnergyOld-30      590.8892585002591\n",
      "fBodyGyro-BandsEnergyOld-31      456.02105754202887\n",
      "fBodyGyro-BandsEnergyOld-32      613.9983809120955\n",
      "fBodyGyro-BandsEnergyOld-33      4859.166168872157\n",
      "fBodyGyro-BandsEnergyOld-34      -687.2391114917613\n",
      "fBodyGyro-BandsEnergyOld-35      -264.8478016928956\n",
      "fBodyGyro-BandsEnergyOld-36      -75.09527870571156\n",
      "fBodyGyro-BandsEnergyOld-37      -76.02631738024274\n",
      "fBodyGyro-BandsEnergyOld-38      636.0284364656416\n",
      "fBodyGyro-BandsEnergyOld-39      -2630.2730929731006\n",
      "fBodyGyro-BandsEnergyOld-40      -153.06525688256005\n",
      "fBodyGyro-BandsEnergyOld-41      -85.98317940936617\n",
      "fBodyGyro-BandsEnergyOld-42      915.4533485096505\n",
      "fBodyAccMag-Mean-1      -874.301891550501\n",
      "fBodyAccMag-STD-1      -210.62047934958076\n",
      "fBodyAccMag-Mad-1      -573.9027132070845\n",
      "fBodyAccMag-Max-1      -118.60149323951408\n",
      "fBodyAccMag-Min-1      -105.73287149375513\n",
      "fBodyAccMag-SMA-1      -874.301891550501\n",
      "fBodyAccMag-Energy-1      -126.11464172472296\n",
      "fBodyAccMag-IQR-1      -2629.098417980535\n",
      "fBodyAccMag-ropy-1      -1912.6690245295547\n",
      "fBodyAccMag-MaxInds-1      548.6795356893816\n",
      "fBodyAccMag-MeanFreq-1      224.30343386287282\n",
      "fBodyAccMag-Skewness-1      -79.29232817112496\n",
      "fBodyAccMag-Kurtosis-1      -78.28059382904846\n",
      "fBodyAccJerkMag-Mean-1      88816.03713869864\n",
      "fBodyAccJerkMag-STD-1      37317.26422772581\n",
      "fBodyAccJerkMag-Mad-1      -66347.4588864669\n",
      "fBodyAccJerkMag-Max-1      8308.431989480534\n",
      "fBodyAccJerkMag-Min-1      17628.694457059464\n",
      "fBodyAccJerkMag-SMA-1      88816.03713869864\n",
      "fBodyAccJerkMag-Energy-1      1103.7896543891547\n",
      "fBodyAccJerkMag-IQR-1      130428.76171980033\n",
      "fBodyAccJerkMag-ropy-1      -3007.386665462356\n",
      "fBodyAccJerkMag-MaxInds-1      22.964717575150626\n",
      "fBodyAccJerkMag-MeanFreq-1      467.66695650321446\n",
      "fBodyAccJerkMag-Skewness-1      -39663.692904834534\n",
      "fBodyAccJerkMag-Kurtosis-1      167258.23063528203\n",
      "fBodyGyroMag-Mean-1      -830.8375165046043\n",
      "fBodyGyroMag-STD-1      -387.4326273976131\n",
      "fBodyGyroMag-Mad-1      -552.2702777150347\n",
      "fBodyGyroMag-Max-1      -233.71955743889018\n",
      "fBodyGyroMag-Min-1      -257.1173231461457\n",
      "fBodyGyroMag-SMA-1      -830.8375165046043\n",
      "fBodyGyroMag-Energy-1      -156.54683657887037\n",
      "fBodyGyroMag-IQR-1      -1999.7005804673906\n",
      "fBodyGyroMag-ropy-1      -2510.0111467520483\n",
      "fBodyGyroMag-MaxInds-1      1889.8540799532482\n",
      "fBodyGyroMag-MeanFreq-1      104.53173973330856\n",
      "fBodyGyroMag-Skewness-1      -108.25175419920218\n",
      "fBodyGyroMag-Kurtosis-1      -231.8572443500368\n",
      "fBodyGyroJerkMag-Mean-1      -8017.2462080566265\n",
      "fBodyGyroJerkMag-STD-1      -4992.158278216696\n",
      "fBodyGyroJerkMag-Mad-1      -5069.190285151086\n",
      "fBodyGyroJerkMag-Max-1      -5791.386679852823\n",
      "fBodyGyroJerkMag-Min-1      -19712.7372617949\n",
      "fBodyGyroJerkMag-SMA-1      -8017.2462080566265\n",
      "fBodyGyroJerkMag-Energy-1      531.9859560099273\n",
      "fBodyGyroJerkMag-IQR-1      -4301.684360390659\n",
      "fBodyGyroJerkMag-ropy-1      -2231.230679521368\n",
      "fBodyGyroJerkMag-MaxInds-1      17.161619750754426\n",
      "fBodyGyroJerkMag-MeanFreq-1      85.99670325538354\n",
      "fBodyGyroJerkMag-Skewness-1      -6083.2734712062465\n",
      "fBodyGyroJerkMag-Kurtosis-1      -7167.424668325024\n",
      "tBodyAcc-AngleWRTGravity-1      -1311.8698481587562\n",
      "tBodyAccJerk-AngleWRTGravity-1      -1064.6343163304944\n",
      "tBodyGyro-AngleWRTGravity-1      -25081.096544143064\n",
      "tBodyGyroJerk-AngleWRTGravity-1      23254.443353950872\n",
      "tXAxisAcc-AngleWRTGravity-1      12601.854756190784\n",
      "tYAxisAcc-AngleWRTGravity-1      1777.836728337151\n",
      "tZAxisAcc-AngleWRTGravity-1      7011.128404408679\n"
     ]
    }
   ],
   "source": [
    "for featureIndex in range(X.shape[1]):\n",
    "    print(\n",
    "            features[featureIndex],\n",
    "            '    ',\n",
    "            Fishers_criterion(X_train,y_train,[i for i in range(np.max(y_train))], featureIndex)\n",
    "         )"
   ]
  },
  {
   "cell_type": "markdown",
   "metadata": {},
   "source": [
    "# Pearson’s correlation "
   ]
  },
  {
   "cell_type": "code",
   "execution_count": 43,
   "metadata": {},
   "outputs": [],
   "source": [
    "from scipy.stats import pearsonr"
   ]
  },
  {
   "cell_type": "code",
   "execution_count": 44,
   "metadata": {},
   "outputs": [],
   "source": [
    "selectedFeatures_index = [41, 9, 52, 228, 202, 70, 433, 193, 123, 121, 243, 6, 83, 502, 541]"
   ]
  },
  {
   "cell_type": "code",
   "execution_count": 60,
   "metadata": {},
   "outputs": [
    {
     "name": "stdout",
     "output_type": "stream",
     "text": [
      "tGravityAcc-Mean-2     tBodyAcc-Max-1  :   -0.4339063925060642\n",
      "tGravityAcc-Mean-2     tGravityAcc-Min-1  :   -0.7673838759819631\n",
      "tGravityAcc-Mean-2     tBodyAccJerkMag-Mad-1  :   -0.46242949843672077\n",
      "tGravityAcc-Mean-2     tBodyAccMag-Mad-1  :   -0.3146608120167613\n",
      "tGravityAcc-Mean-2     tGravityAcc-ARCoeff-6  :   -0.14394953210875003\n",
      "tGravityAcc-Mean-2     fBodyGyro-Max-2  :   -0.38334798517007795\n",
      "tGravityAcc-Mean-2     tBodyGyroJerk-ARCoeff-9  :   0.4170869799924418\n",
      "tGravityAcc-Mean-2     tBodyGyro-STD-1  :   -0.42562833469359573\n",
      "tGravityAcc-Mean-2     tBodyGyro-Mean-2  :   -0.022768282353281204\n",
      "tGravityAcc-Mean-2     tBodyGyroMag-Min-1  :   -0.3189714567010238\n",
      "tGravityAcc-Mean-2     tBodyAcc-Mad-1  :   -0.4119864615889127\n",
      "tGravityAcc-Mean-2     tBodyAccJerk-STD-1  :   -0.47004043188283184\n",
      "tGravityAcc-Mean-2     fBodyAccMag-Mean-1  :   -0.4114576971618521\n",
      "tGravityAcc-Mean-2     fBodyGyroJerkMag-Mean-1  :   -0.41869788334286834\n",
      "tBodyAcc-Max-1     tGravityAcc-Min-1  :   0.33016548378022403\n",
      "tBodyAcc-Max-1     tBodyAccJerkMag-Mad-1  :   0.934334662223337\n",
      "tBodyAcc-Max-1     tBodyAccMag-Mad-1  :   0.847373465986971\n",
      "tBodyAcc-Max-1     tGravityAcc-ARCoeff-6  :   -0.11152729714631202\n",
      "tBodyAcc-Max-1     fBodyGyro-Max-2  :   0.692492076717723\n",
      "tBodyAcc-Max-1     tBodyGyroJerk-ARCoeff-9  :   -0.5734810560495016\n",
      "tBodyAcc-Max-1     tBodyGyro-STD-1  :   0.8463957209982756\n",
      "tBodyAcc-Max-1     tBodyGyro-Mean-2  :   -0.00022302374161254973\n",
      "tBodyAcc-Max-1     tBodyGyroMag-Min-1  :   0.6752647340098299\n",
      "tBodyAcc-Max-1     tBodyAcc-Mad-1  :   0.9612319388514441\n",
      "tBodyAcc-Max-1     tBodyAccJerk-STD-1  :   0.948806219726004\n",
      "tBodyAcc-Max-1     fBodyAccMag-Mean-1  :   0.9463883098988615\n",
      "tBodyAcc-Max-1     fBodyGyroJerkMag-Mean-1  :   0.8298290491281353\n",
      "tGravityAcc-Min-1     tBodyAccJerkMag-Mad-1  :   0.3721461278590039\n",
      "tGravityAcc-Min-1     tBodyAccMag-Mad-1  :   0.1983680166049218\n",
      "tGravityAcc-Min-1     tGravityAcc-ARCoeff-6  :   0.058312941559624666\n",
      "tGravityAcc-Min-1     fBodyGyro-Max-2  :   0.25295028301972283\n",
      "tGravityAcc-Min-1     tBodyGyroJerk-ARCoeff-9  :   -0.3372538725978167\n",
      "tGravityAcc-Min-1     tBodyGyro-STD-1  :   0.31469308694858206\n",
      "tGravityAcc-Min-1     tBodyGyro-Mean-2  :   0.08337292645285002\n",
      "tGravityAcc-Min-1     tBodyGyroMag-Min-1  :   0.21249704340538816\n",
      "tGravityAcc-Min-1     tBodyAcc-Mad-1  :   0.30518315779427896\n",
      "tGravityAcc-Min-1     tBodyAccJerk-STD-1  :   0.3775151303991036\n",
      "tGravityAcc-Min-1     fBodyAccMag-Mean-1  :   0.30121058888887575\n",
      "tGravityAcc-Min-1     fBodyGyroJerkMag-Mean-1  :   0.31966253401505645\n",
      "tBodyAccJerkMag-Mad-1     tBodyAccMag-Mad-1  :   0.798465783353562\n",
      "tBodyAccJerkMag-Mad-1     tGravityAcc-ARCoeff-6  :   -0.21951552062228694\n",
      "tBodyAccJerkMag-Mad-1     fBodyGyro-Max-2  :   0.6834192571126508\n",
      "tBodyAccJerkMag-Mad-1     tBodyGyroJerk-ARCoeff-9  :   -0.55175860641473\n",
      "tBodyAccJerkMag-Mad-1     tBodyGyro-STD-1  :   0.849216232540462\n",
      "tBodyAccJerkMag-Mad-1     tBodyGyro-Mean-2  :   0.03202892622338806\n",
      "tBodyAccJerkMag-Mad-1     tBodyGyroMag-Min-1  :   0.6661693976923173\n",
      "tBodyAccJerkMag-Mad-1     tBodyAcc-Mad-1  :   0.9327245393008514\n",
      "tBodyAccJerkMag-Mad-1     tBodyAccJerk-STD-1  :   0.9842726911010856\n",
      "tBodyAccJerkMag-Mad-1     fBodyAccMag-Mean-1  :   0.940355954782806\n",
      "tBodyAccJerkMag-Mad-1     fBodyGyroJerkMag-Mean-1  :   0.9196779723993647\n",
      "tBodyAccMag-Mad-1     tGravityAcc-ARCoeff-6  :   0.09086569406882779\n",
      "tBodyAccMag-Mad-1     fBodyGyro-Max-2  :   0.7104611718968642\n",
      "tBodyAccMag-Mad-1     tBodyGyroJerk-ARCoeff-9  :   -0.5883207204408946\n",
      "tBodyAccMag-Mad-1     tBodyGyro-STD-1  :   0.8173316426905883\n",
      "tBodyAccMag-Mad-1     tBodyGyro-Mean-2  :   0.016699455756098727\n",
      "tBodyAccMag-Mad-1     tBodyGyroMag-Min-1  :   0.7010301222497253\n",
      "tBodyAccMag-Mad-1     tBodyAcc-Mad-1  :   0.8851860715579807\n",
      "tBodyAccMag-Mad-1     tBodyAccJerk-STD-1  :   0.7914859582786847\n",
      "tBodyAccMag-Mad-1     fBodyAccMag-Mean-1  :   0.9375188603773023\n",
      "tBodyAccMag-Mad-1     fBodyGyroJerkMag-Mean-1  :   0.7377313834859738\n",
      "tGravityAcc-ARCoeff-6     fBodyGyro-Max-2  :   0.040409840725956415\n",
      "tGravityAcc-ARCoeff-6     tBodyGyroJerk-ARCoeff-9  :   -0.17699950558576885\n",
      "tGravityAcc-ARCoeff-6     tBodyGyro-STD-1  :   -0.01958425603149138\n",
      "tGravityAcc-ARCoeff-6     tBodyGyro-Mean-2  :   -0.007524135934941744\n",
      "tGravityAcc-ARCoeff-6     tBodyGyroMag-Min-1  :   0.11315520298186373\n",
      "tGravityAcc-ARCoeff-6     tBodyAcc-Mad-1  :   -0.0972447995510616\n",
      "tGravityAcc-ARCoeff-6     tBodyAccJerk-STD-1  :   -0.1974903841607408\n",
      "tGravityAcc-ARCoeff-6     fBodyAccMag-Mean-1  :   -0.04989556477364504\n",
      "tGravityAcc-ARCoeff-6     fBodyGyroJerkMag-Mean-1  :   -0.20237226157587868\n",
      "fBodyGyro-Max-2     tBodyGyroJerk-ARCoeff-9  :   -0.571484991352176\n",
      "fBodyGyro-Max-2     tBodyGyro-STD-1  :   0.7263607703178482\n",
      "fBodyGyro-Max-2     tBodyGyro-Mean-2  :   0.02003705779900134\n",
      "fBodyGyro-Max-2     tBodyGyroMag-Min-1  :   0.6738728506079759\n",
      "fBodyGyro-Max-2     tBodyAcc-Mad-1  :   0.6977618716608691\n",
      "fBodyGyro-Max-2     tBodyAccJerk-STD-1  :   0.6857192222438688\n",
      "fBodyGyro-Max-2     fBodyAccMag-Mean-1  :   0.7284115395841129\n",
      "fBodyGyro-Max-2     fBodyGyroJerkMag-Mean-1  :   0.6929537739391008\n",
      "tBodyGyroJerk-ARCoeff-9     tBodyGyro-STD-1  :   -0.6123740473187813\n",
      "tBodyGyroJerk-ARCoeff-9     tBodyGyro-Mean-2  :   -0.025394345518728347\n",
      "tBodyGyroJerk-ARCoeff-9     tBodyGyroMag-Min-1  :   -0.5379136662226554\n",
      "tBodyGyroJerk-ARCoeff-9     tBodyAcc-Mad-1  :   -0.5774256529151484\n",
      "tBodyGyroJerk-ARCoeff-9     tBodyAccJerk-STD-1  :   -0.5456528421337663\n",
      "tBodyGyroJerk-ARCoeff-9     fBodyAccMag-Mean-1  :   -0.5941400383690237\n",
      "tBodyGyroJerk-ARCoeff-9     fBodyGyroJerkMag-Mean-1  :   -0.5003842750556026\n",
      "tBodyGyro-STD-1     tBodyGyro-Mean-2  :   0.04910958301103918\n",
      "tBodyGyro-STD-1     tBodyGyroMag-Min-1  :   0.7178818730196939\n",
      "tBodyGyro-STD-1     tBodyAcc-Mad-1  :   0.8613180534373523\n",
      "tBodyGyro-STD-1     tBodyAccJerk-STD-1  :   0.8471310744764909\n",
      "tBodyGyro-STD-1     fBodyAccMag-Mean-1  :   0.8766515783759751\n",
      "tBodyGyro-STD-1     fBodyGyroJerkMag-Mean-1  :   0.7856355033306411\n",
      "tBodyGyro-Mean-2     tBodyGyroMag-Min-1  :   0.11529655228948611\n",
      "tBodyGyro-Mean-2     tBodyAcc-Mad-1  :   0.0146560540492784\n",
      "tBodyGyro-Mean-2     tBodyAccJerk-STD-1  :   0.022857628356471246\n",
      "tBodyGyro-Mean-2     fBodyAccMag-Mean-1  :   0.021315113858215568\n",
      "tBodyGyro-Mean-2     fBodyGyroJerkMag-Mean-1  :   0.03224238110956783\n",
      "tBodyGyroMag-Min-1     tBodyAcc-Mad-1  :   0.7050423465716047\n",
      "tBodyGyroMag-Min-1     tBodyAccJerk-STD-1  :   0.6704952516197735\n",
      "tBodyGyroMag-Min-1     fBodyAccMag-Mean-1  :   0.724513618483428\n",
      "tBodyGyroMag-Min-1     fBodyGyroJerkMag-Mean-1  :   0.6236099865867623\n",
      "tBodyAcc-Mad-1     tBodyAccJerk-STD-1  :   0.9485984947024525\n",
      "tBodyAcc-Mad-1     fBodyAccMag-Mean-1  :   0.9575961857034766\n",
      "tBodyAcc-Mad-1     fBodyGyroJerkMag-Mean-1  :   0.826473148320449\n",
      "tBodyAccJerk-STD-1     fBodyAccMag-Mean-1  :   0.9344479751255199\n",
      "tBodyAccJerk-STD-1     fBodyGyroJerkMag-Mean-1  :   0.8891614311511125\n",
      "fBodyAccMag-Mean-1     fBodyGyroJerkMag-Mean-1  :   0.8700527161614238\n"
     ]
    }
   ],
   "source": [
    "HighlyCorrelatedFeatures = None\n",
    "HighCorr = float('-inf')\n",
    "LeastCorrelatedFeatures = None\n",
    "LeastCorr = float('inf')\n",
    "for i in range(len(selectedFeatures_index)):\n",
    "    for j in range(i+1,len(selectedFeatures_index)):\n",
    "        corr = pearsonr(X_train[:,selectedFeatures_index[i]], X_train[:,selectedFeatures_index[j]])[0]\n",
    "        \n",
    "        if HighCorr < np.abs(corr):\n",
    "            HighCorr = np.abs(corr)\n",
    "            HighlyCorrelatedFeatures = (features[selectedFeatures_index[i]], features[selectedFeatures_index[j]], corr)\n",
    "\n",
    "        if LeastCorr > np.abs(corr):\n",
    "            LeastCorr = np.abs(corr)\n",
    "            LeastCorrelatedFeatures = (features[selectedFeatures_index[i]], features[selectedFeatures_index[j]], corr)\n",
    "            \n",
    "        print(features[selectedFeatures_index[i]], '   ' ,features[selectedFeatures_index[j]], ' :  ', corr)"
   ]
  },
  {
   "cell_type": "code",
   "execution_count": 61,
   "metadata": {},
   "outputs": [
    {
     "name": "stdout",
     "output_type": "stream",
     "text": [
      "Highly Correlated features -  ('tBodyAccJerkMag-Mad-1', 'tBodyAccJerk-STD-1', 0.9842726911010856)\n",
      "Least Correlated features -  ('tBodyAcc-Max-1', 'tBodyGyro-Mean-2', -0.00022302374161254973)\n"
     ]
    }
   ],
   "source": [
    "print('Highly Correlated features - ', HighlyCorrelatedFeatures)\n",
    "print('Least Correlated features - ', LeastCorrelatedFeatures)"
   ]
  },
  {
   "cell_type": "markdown",
   "metadata": {},
   "source": [
    "# Training Models"
   ]
  },
  {
   "cell_type": "markdown",
   "metadata": {},
   "source": [
    "# LogisticRegression"
   ]
  },
  {
   "cell_type": "code",
   "execution_count": 17,
   "metadata": {},
   "outputs": [],
   "source": [
    "from sklearn.linear_model import LogisticRegression"
   ]
  },
  {
   "cell_type": "code",
   "execution_count": 52,
   "metadata": {},
   "outputs": [
    {
     "name": "stdout",
     "output_type": "stream",
     "text": [
      "Accuracy Val =  0.9679780420860018\n",
      "Accuracy Test =  0.9679780420860018\n"
     ]
    }
   ],
   "source": [
    "clf = LogisticRegression()\n",
    "clf.fit(X_train, y_train+1)\n",
    "\n",
    "predictionsVal = clf.predict(X_val)\n",
    "predictionsTest = clf.predict(X_test)\n",
    "\n",
    "print('Accuracy Val = ', np.sum(predictionsVal == (y_val+1)) / y_val.shape[0] )\n",
    "print('Accuracy Test = ', np.sum(predictionsTest == (y_test+1)) / y_test.shape[0] )"
   ]
  },
  {
   "cell_type": "markdown",
   "metadata": {},
   "source": [
    "# Neural Network"
   ]
  },
  {
   "cell_type": "code",
   "execution_count": 73,
   "metadata": {},
   "outputs": [],
   "source": [
    "def Generate_Model_NN1():\n",
    "    m = models.Sequential()\n",
    "    m.add(layers.Dense( 50 , input_shape = (561,), activation='relu'))\n",
    "    m.add(layers.Dropout(0.3))\n",
    "    m.add(layers.Dense( 50 , activation='relu'))\n",
    "    m.add(layers.Dropout(0.3))\n",
    "    m.add(layers.Dense( 50 , activation='relu'))\n",
    "    m.add(layers.Dropout(0.3))\n",
    "    m.add(layers.Dense( 12 , activation='sigmoid'))\n",
    "\n",
    "    m.compile(optimizer='adam', loss='categorical_crossentropy', metrics=['accuracy'])\n",
    "    return m"
   ]
  },
  {
   "cell_type": "code",
   "execution_count": 85,
   "metadata": {},
   "outputs": [
    {
     "name": "stdout",
     "output_type": "stream",
     "text": [
      "Model: \"sequential_13\"\n",
      "_________________________________________________________________\n",
      "Layer (type)                 Output Shape              Param #   \n",
      "=================================================================\n",
      "dense_59 (Dense)             (None, 50)                28100     \n",
      "_________________________________________________________________\n",
      "dropout_47 (Dropout)         (None, 50)                0         \n",
      "_________________________________________________________________\n",
      "dense_60 (Dense)             (None, 50)                2550      \n",
      "_________________________________________________________________\n",
      "dropout_48 (Dropout)         (None, 50)                0         \n",
      "_________________________________________________________________\n",
      "dense_61 (Dense)             (None, 50)                2550      \n",
      "_________________________________________________________________\n",
      "dropout_49 (Dropout)         (None, 50)                0         \n",
      "_________________________________________________________________\n",
      "dense_62 (Dense)             (None, 12)                612       \n",
      "=================================================================\n",
      "Total params: 33,812\n",
      "Trainable params: 33,812\n",
      "Non-trainable params: 0\n",
      "_________________________________________________________________\n",
      "Train on 8742 samples, validate on 1093 samples\n",
      "Epoch 1/30\n",
      "8742/8742 [==============================] - 0s 55us/step - loss: 1.6532 - accuracy: 0.2880 - val_loss: 1.2092 - val_accuracy: 0.3458\n",
      "Epoch 2/30\n",
      "8742/8742 [==============================] - 0s 37us/step - loss: 1.2236 - accuracy: 0.3334 - val_loss: 1.1773 - val_accuracy: 0.5425\n",
      "Epoch 3/30\n",
      "8742/8742 [==============================] - 0s 41us/step - loss: 1.1832 - accuracy: 0.3423 - val_loss: 1.1513 - val_accuracy: 0.3477\n",
      "Epoch 4/30\n",
      "8742/8742 [==============================] - 0s 48us/step - loss: 1.1596 - accuracy: 0.3593 - val_loss: 1.1216 - val_accuracy: 0.4163\n",
      "Epoch 5/30\n",
      "8742/8742 [==============================] - 0s 47us/step - loss: 1.1207 - accuracy: 0.4085 - val_loss: 1.0215 - val_accuracy: 0.5242\n",
      "Epoch 6/30\n",
      "8742/8742 [==============================] - 0s 54us/step - loss: 1.0212 - accuracy: 0.4484 - val_loss: 0.9136 - val_accuracy: 0.4309\n",
      "Epoch 7/30\n",
      "8742/8742 [==============================] - 0s 45us/step - loss: 0.9398 - accuracy: 0.4986 - val_loss: 0.8666 - val_accuracy: 0.6185\n",
      "Epoch 8/30\n",
      "8742/8742 [==============================] - 0s 42us/step - loss: 0.8186 - accuracy: 0.5668 - val_loss: 0.7191 - val_accuracy: 0.6359\n",
      "Epoch 9/30\n",
      "8742/8742 [==============================] - 0s 41us/step - loss: 0.7590 - accuracy: 0.6004 - val_loss: 0.6914 - val_accuracy: 0.5773\n",
      "Epoch 10/30\n",
      "8742/8742 [==============================] - 0s 40us/step - loss: 0.7252 - accuracy: 0.6080 - val_loss: 0.6760 - val_accuracy: 0.6542\n",
      "Epoch 11/30\n",
      "8742/8742 [==============================] - 0s 39us/step - loss: 0.7122 - accuracy: 0.6201 - val_loss: 0.6824 - val_accuracy: 0.6267\n",
      "Epoch 12/30\n",
      "8742/8742 [==============================] - 0s 38us/step - loss: 0.6959 - accuracy: 0.6227 - val_loss: 0.6652 - val_accuracy: 0.6304\n",
      "Epoch 13/30\n",
      "8742/8742 [==============================] - 0s 39us/step - loss: 0.6538 - accuracy: 0.6627 - val_loss: 0.3798 - val_accuracy: 0.8289\n",
      "Epoch 14/30\n",
      "8742/8742 [==============================] - 0s 34us/step - loss: 0.4442 - accuracy: 0.7813 - val_loss: 0.3210 - val_accuracy: 0.8161\n",
      "Epoch 15/30\n",
      "8742/8742 [==============================] - 0s 33us/step - loss: 0.3960 - accuracy: 0.8024 - val_loss: 0.3133 - val_accuracy: 0.8161\n",
      "Epoch 16/30\n",
      "8742/8742 [==============================] - 0s 33us/step - loss: 0.3542 - accuracy: 0.8253 - val_loss: 0.2910 - val_accuracy: 0.8545\n",
      "Epoch 17/30\n",
      "8742/8742 [==============================] - 0s 33us/step - loss: 0.3470 - accuracy: 0.8463 - val_loss: 0.2765 - val_accuracy: 0.8774\n",
      "Epoch 18/30\n",
      "8742/8742 [==============================] - 0s 33us/step - loss: 0.2984 - accuracy: 0.8735 - val_loss: 0.2342 - val_accuracy: 0.8975\n",
      "Epoch 19/30\n",
      "8742/8742 [==============================] - 0s 33us/step - loss: 0.2813 - accuracy: 0.8816 - val_loss: 0.2347 - val_accuracy: 0.8957\n",
      "Epoch 20/30\n",
      "8742/8742 [==============================] - 0s 33us/step - loss: 0.2642 - accuracy: 0.8934 - val_loss: 0.1733 - val_accuracy: 0.9222\n",
      "Epoch 21/30\n",
      "8742/8742 [==============================] - 0s 33us/step - loss: 0.2415 - accuracy: 0.9038 - val_loss: 0.1840 - val_accuracy: 0.9222\n",
      "Epoch 22/30\n",
      "8742/8742 [==============================] - 0s 33us/step - loss: 0.2299 - accuracy: 0.9068 - val_loss: 0.1711 - val_accuracy: 0.9259\n",
      "Epoch 23/30\n",
      "8742/8742 [==============================] - 0s 38us/step - loss: 0.2210 - accuracy: 0.9156 - val_loss: 0.1627 - val_accuracy: 0.9286\n",
      "Epoch 24/30\n",
      "8742/8742 [==============================] - 0s 31us/step - loss: 0.2088 - accuracy: 0.9198 - val_loss: 0.1563 - val_accuracy: 0.9305\n",
      "Epoch 25/30\n",
      "8742/8742 [==============================] - 0s 26us/step - loss: 0.1947 - accuracy: 0.9238 - val_loss: 0.1578 - val_accuracy: 0.9323\n",
      "Epoch 26/30\n",
      "8742/8742 [==============================] - 0s 24us/step - loss: 0.1899 - accuracy: 0.9282 - val_loss: 0.1562 - val_accuracy: 0.9387\n",
      "Epoch 27/30\n",
      "8742/8742 [==============================] - 0s 24us/step - loss: 0.1840 - accuracy: 0.9251 - val_loss: 0.1492 - val_accuracy: 0.9369\n",
      "Epoch 28/30\n",
      "8742/8742 [==============================] - 0s 25us/step - loss: 0.1726 - accuracy: 0.9329 - val_loss: 0.1372 - val_accuracy: 0.9424\n",
      "Epoch 29/30\n",
      "8742/8742 [==============================] - 0s 27us/step - loss: 0.1885 - accuracy: 0.9256 - val_loss: 0.1474 - val_accuracy: 0.9396\n",
      "Epoch 30/30\n",
      "8742/8742 [==============================] - 0s 25us/step - loss: 0.1790 - accuracy: 0.9295 - val_loss: 0.1391 - val_accuracy: 0.9369\n"
     ]
    }
   ],
   "source": [
    "model_1 = Generate_Model_NN1()\n",
    "model_1.summary()\n",
    "history = model_1.fit(X_train, y_train_categorical,\n",
    "                    batch_size=100,\n",
    "                    epochs=30,\n",
    "                    validation_data=(X_val, y_val_categorical))"
   ]
  },
  {
   "cell_type": "code",
   "execution_count": 88,
   "metadata": {},
   "outputs": [
    {
     "name": "stdout",
     "output_type": "stream",
     "text": [
      "1093/1093 [==============================] - 0s 30us/step\n",
      "test_acc:  0.9332113265991211\n",
      "1093/1093 [==============================] - 0s 31us/step\n",
      "val_acc:  0.9368709921836853\n",
      "8742/8742 [==============================] - 0s 22us/step\n",
      "train_acc:  0.9604209661483765\n"
     ]
    }
   ],
   "source": [
    "loss, test_acc = model_1.evaluate(X_test, y_test_categorical)\n",
    "print('test_acc: ', test_acc)\n",
    "\n",
    "loss, val_acc = model_1.evaluate(X_val, y_val_categorical)\n",
    "print('val_acc: ', val_acc)\n",
    "\n",
    "loss, train_acc = model_1.evaluate(X_train, y_train_categorical)\n",
    "print('train_acc: ', train_acc)"
   ]
  },
  {
   "cell_type": "code",
   "execution_count": 90,
   "metadata": {},
   "outputs": [],
   "source": [
    "#model_1.save('model_1_Test_93_3.h5')"
   ]
  },
  {
   "cell_type": "markdown",
   "metadata": {},
   "source": [
    "# (f) Feature selection."
   ]
  },
  {
   "cell_type": "code",
   "execution_count": 18,
   "metadata": {},
   "outputs": [],
   "source": [
    "def createDataSetWithSelectedFeatures(FullDataSet, FeaturesList):\n",
    "    \n",
    "    numFeatures = FullDataSet.shape[1]\n",
    "    NewReducedDataSet = np.array( [ FullDataSet[:,FeaturesList[0]] ] ).T\n",
    "    \n",
    "    for i in range(len(FeaturesList)):\n",
    "        \n",
    "        if i == 0:\n",
    "            continue\n",
    "            \n",
    "        if FeaturesList[i] < 0 or FeaturesList[i] > numFeatures-1:\n",
    "            continue\n",
    "            \n",
    "        featureToSelect = FeaturesList[i]\n",
    "        NewReducedDataSet = np.hstack( (NewReducedDataSet , np.array( [ FullDataSet[:,FeaturesList[i]] ] ).T) )\n",
    "    \n",
    "    return NewReducedDataSet"
   ]
  },
  {
   "cell_type": "code",
   "execution_count": 21,
   "metadata": {},
   "outputs": [
    {
     "name": "stdout",
     "output_type": "stream",
     "text": [
      "\n",
      "Selecting feature  1\n",
      "Best Validation accuracy: 0.47118023787740165\n",
      "Selected Features -  [41]\n",
      "\n",
      "Selecting feature  2\n",
      "Best Validation accuracy: 0.7145471180237878\n",
      "Selected Features -  [41, 9]\n",
      "\n",
      "Selecting feature  3\n",
      "Best Validation accuracy: 0.7950594693504117\n",
      "Selected Features -  [41, 9, 52]\n",
      "\n",
      "Selecting feature  4\n",
      "Best Validation accuracy: 0.8453796889295517\n",
      "Selected Features -  [41, 9, 52, 228]\n",
      "\n",
      "Selecting feature  5\n",
      "Best Validation accuracy: 0.8636779505946935\n",
      "Selected Features -  [41, 9, 52, 228, 202]\n",
      "\n",
      "Selecting feature  6\n",
      "Best Validation accuracy: 0.8774016468435498\n",
      "Selected Features -  [41, 9, 52, 228, 202, 70]\n",
      "\n",
      "Selecting feature  7\n",
      "Best Validation accuracy: 0.889295516925892\n",
      "Selected Features -  [41, 9, 52, 228, 202, 70, 433]\n",
      "\n",
      "Selecting feature  8\n",
      "Best Validation accuracy: 0.8947849954254345\n",
      "Selected Features -  [41, 9, 52, 228, 202, 70, 433, 193]\n",
      "\n",
      "Selecting feature  9\n",
      "Best Validation accuracy: 0.9002744739249772\n",
      "Selected Features -  [41, 9, 52, 228, 202, 70, 433, 193, 123]\n",
      "\n",
      "Selecting feature  10\n",
      "Best Validation accuracy: 0.9057639524245197\n",
      "Selected Features -  [41, 9, 52, 228, 202, 70, 433, 193, 123, 121]\n",
      "\n",
      "Selecting feature  11\n",
      "Best Validation accuracy: 0.909423604757548\n",
      "Selected Features -  [41, 9, 52, 228, 202, 70, 433, 193, 123, 121, 243]\n",
      "\n",
      "Selecting feature  12\n",
      "Best Validation accuracy: 0.9139981701738334\n",
      "Selected Features -  [41, 9, 52, 228, 202, 70, 433, 193, 123, 121, 243, 6]\n",
      "\n",
      "Selecting feature  13\n",
      "Best Validation accuracy: 0.918572735590119\n",
      "Selected Features -  [41, 9, 52, 228, 202, 70, 433, 193, 123, 121, 243, 6, 83]\n",
      "\n",
      "Selecting feature  14\n",
      "Best Validation accuracy: 0.9204025617566332\n",
      "Selected Features -  [41, 9, 52, 228, 202, 70, 433, 193, 123, 121, 243, 6, 83, 502]\n",
      "\n",
      "Selecting feature  15\n",
      "Best Validation accuracy: 0.9222323879231473\n",
      "Selected Features -  [41, 9, 52, 228, 202, 70, 433, 193, 123, 121, 243, 6, 83, 502, 541]\n",
      "[41, 9, 52, 228, 202, 70, 433, 193, 123, 121, 243, 6, 83, 502, 541]\n"
     ]
    },
    {
     "data": {
      "image/png": "[encoded data removed]",
      "text/plain": [
       "<Figure size 432x288 with 1 Axes>"
      ]
     },
     "metadata": {
      "needs_background": "light"
     },
     "output_type": "display_data"
    }
   ],
   "source": [
    "NumFeaturesToSelect = 15\n",
    "TotalNumFeatures = X_train.shape[1]\n",
    "#TotalNumFeatures = 50\n",
    "IncludedFeatures_X = np.zeros(shape=(X_train.shape[0], NumFeaturesToSelect))\n",
    "IncludedFeatures_list = [-1 for i in range(NumFeaturesToSelect)]\n",
    "\n",
    "\n",
    "PreviousBestValAcc = 0\n",
    "EndSelection = False\n",
    "Accuracies = []\n",
    "for i in range(NumFeaturesToSelect):\n",
    "    \n",
    "    print('\\nSelecting feature ', i+1)\n",
    "        \n",
    "    bestFeatureIndex = 0\n",
    "    bestAccuracy = 0\n",
    "    for feature_index in range(TotalNumFeatures):\n",
    "        \n",
    "        if feature_index in IncludedFeatures_list:\n",
    "            continue\n",
    "        \n",
    "        featureX = np.array( [X_train[:,feature_index]] )\n",
    "        IncludedFeatures_X[:,i] = featureX\n",
    "        IncludedFeatures_list[i] = feature_index\n",
    "\n",
    "        clfX = LogisticRegression()\n",
    "        clfX.fit(IncludedFeatures_X[:,:i+1], (y_train+1))\n",
    "        \n",
    "        reducedValidationDataset = createDataSetWithSelectedFeatures(X_val, IncludedFeatures_list)\n",
    "        predictionsVal = clfX.predict(reducedValidationDataset)\n",
    "        val_acc = np.sum(predictionsVal == (y_val+1)) / y_val.shape[0] \n",
    "\n",
    "        #print(feature_index, ' Accuracy Val = ', val_acc )\n",
    "        \n",
    "        if val_acc > bestAccuracy:\n",
    "            bestAccuracy = val_acc\n",
    "            Accuracies.append(bestAccuracy)\n",
    "            bestFeatureIndex = feature_index\n",
    "    \n",
    "    print('Best Validation accuracy:', bestAccuracy)\n",
    "    if bestAccuracy > PreviousBestValAcc:\n",
    "        PreviousBestValAcc = bestAccuracy\n",
    "    else:\n",
    "        break\n",
    "    \n",
    "    IncludedFeatures_list[i] = bestFeatureIndex\n",
    "    IncludedFeatures_X[:,i] = np.array( [X_train[:,bestFeatureIndex]] )\n",
    "    print('Selected Features - ', [x for x in IncludedFeatures_list if x != -1] )\n",
    "    \n",
    "\n",
    "plt.figure()\n",
    "plt.title('Accuracy imporvement for different features - ')\n",
    "plt.ylabel('Accuracy')\n",
    "plt.plot(Accuracies)\n",
    "print(IncludedFeatures_list)    \n",
    "    "
   ]
  },
  {
   "cell_type": "code",
   "execution_count": 30,
   "metadata": {},
   "outputs": [
    {
     "name": "stdout",
     "output_type": "stream",
     "text": [
      "List of selected features - \n",
      "\n",
      "tGravityAcc-Mean-2\n",
      "tBodyAcc-Max-1\n",
      "tGravityAcc-Min-1\n",
      "tBodyAccJerkMag-Mad-1\n",
      "tBodyAccMag-Mad-1\n",
      "tGravityAcc-ARCoeff-6\n",
      "fBodyGyro-Max-2\n",
      "tBodyGyroJerk-ARCoeff-9\n",
      "tBodyGyro-STD-1\n",
      "tBodyGyro-Mean-2\n",
      "tBodyGyroMag-Min-1\n",
      "tBodyAcc-Mad-1\n",
      "tBodyAccJerk-STD-1\n",
      "fBodyAccMag-Mean-1\n",
      "fBodyGyroJerkMag-Mean-1\n"
     ]
    }
   ],
   "source": [
    "print('List of selected features - \\n')\n",
    "for i in IncludedFeatures_list:\n",
    "    print(features[i])"
   ]
  },
  {
   "cell_type": "code",
   "execution_count": 23,
   "metadata": {},
   "outputs": [],
   "source": [
    "X_train_reduced_featuresSelected = createDataSetWithSelectedFeatures(X_train, IncludedFeatures_list)\n",
    "X_test_reduced_featuresSelected = createDataSetWithSelectedFeatures(X_test, IncludedFeatures_list)"
   ]
  },
  {
   "cell_type": "code",
   "execution_count": 24,
   "metadata": {},
   "outputs": [
    {
     "data": {
      "text/plain": [
       "LogisticRegression(C=1.0, class_weight=None, dual=False, fit_intercept=True,\n",
       "                   intercept_scaling=1, l1_ratio=None, max_iter=100,\n",
       "                   multi_class='warn', n_jobs=None, penalty='l2',\n",
       "                   random_state=None, solver='warn', tol=0.0001, verbose=0,\n",
       "                   warm_start=False)"
      ]
     },
     "execution_count": 24,
     "metadata": {},
     "output_type": "execute_result"
    }
   ],
   "source": [
    "clfX = LogisticRegression()\n",
    "clfX.fit(X_train_reduced_featuresSelected, (y_train+1))"
   ]
  },
  {
   "cell_type": "code",
   "execution_count": 26,
   "metadata": {},
   "outputs": [
    {
     "name": "stdout",
     "output_type": "stream",
     "text": [
      "Accuracy on selected features Test dataset -  0.8728270814272644\n"
     ]
    }
   ],
   "source": [
    "predictionsTest = clfX.predict(X_test_reduced_featuresSelected)\n",
    "test_acc = np.sum(predictionsTest == (y_test+1)) / y_test.shape[0]\n",
    "print('Accuracy on selected features Test dataset - ', test_acc)"
   ]
  },
  {
   "cell_type": "markdown",
   "metadata": {},
   "source": [
    "# (g) Feature transformation (PCA)."
   ]
  },
  {
   "cell_type": "code",
   "execution_count": 77,
   "metadata": {},
   "outputs": [],
   "source": [
    "from numpy import linalg as LA"
   ]
  },
  {
   "cell_type": "code",
   "execution_count": 127,
   "metadata": {},
   "outputs": [],
   "source": [
    "def meanNormalize_features(Mat):\n",
    "    \n",
    "    NormalizedMat = np.array( [Mat[:,0] - np.mean(Mat[:,0])] ).T\n",
    "    \n",
    "    colsMax = Mat.shape[1]\n",
    "    \n",
    "    for i in range(colsMax):\n",
    "        \n",
    "        if i == 0:\n",
    "            continue\n",
    "        \n",
    "        NormalizedMat = np.hstack( (NormalizedMat, np.array( [Mat[:,i] - np.mean(Mat[:,i])] ).T ) )\n",
    "    \n",
    "    return NormalizedMat\n",
    "\n",
    "def PCA_ML633(MatIn, K, plot='on'):\n",
    "    \n",
    "    Mat = meanNormalize_features(MatIn)\n",
    "    \n",
    "    CovMat = np.matmul(Mat.T , Mat)\n",
    "    D = CovMat.shape[0]\n",
    "    CovMat = CovMat / (D-1)\n",
    "    \n",
    "    Lambdas, vectors = LA.eigh(CovMat)\n",
    "    \n",
    "    if plot == 'on':\n",
    "        \n",
    "        lambda_sum = np.sum(Lambdas)\n",
    "        plot_y = []\n",
    "        for i in range(D):\n",
    "            Vec_index = D - i\n",
    "            First_i_lambda_sum = np.sum(Lambdas[D-i:D])\n",
    "            plot_y.append(First_i_lambda_sum / lambda_sum)\n",
    "        \n",
    "        plt.title('Power on lambdas')\n",
    "        plt.xlabel('K ----> ')\n",
    "        plt.ylabel('Sk ----> ')\n",
    "        plt.xticks([1,50,100,150,200,250,300,400,500])\n",
    "        plt.plot(plot_y)\n",
    "    \n",
    "    if K > D:\n",
    "        print('Error K > D')\n",
    "        return\n",
    "    \n",
    "    U = np.array( [vectors[:,D-1]] ).T\n",
    "    for i in range(K):\n",
    "        \n",
    "        if i == 0:\n",
    "            continue\n",
    "        \n",
    "        Vec_index = D - i - 1\n",
    "        U = np.hstack( (U, np.array( [vectors[:,Vec_index]] ).T) )\n",
    "        \n",
    "    return U , np.matmul(Mat, U)"
   ]
  },
  {
   "cell_type": "code",
   "execution_count": 128,
   "metadata": {},
   "outputs": [
    {
     "name": "stdout",
     "output_type": "stream",
     "text": [
      "Shape of Train set  (8742, 100)\n",
      "Shape of Test set  (1093, 100)\n",
      "Shape of Val set  (1093, 100)\n"
     ]
    },
    {
     "data": {
      "image/png": "[encoded data removed]",
      "text/plain": [
       "<Figure size 432x288 with 1 Axes>"
      ]
     },
     "metadata": {
      "needs_background": "light"
     },
     "output_type": "display_data"
    }
   ],
   "source": [
    "U , X_PCA = PCA_ML633(X , 100)\n",
    "X_PCA_Train = X_PCA[:8742,:]\n",
    "X_PCA_val = X_PCA[8742:9835,:]\n",
    "X_PCA_test = X_PCA[9835:,:]\n",
    "\n",
    "print('Shape of Train set ', X_PCA_Train.shape)\n",
    "print('Shape of Test set ', X_PCA_test.shape)\n",
    "print('Shape of Val set ', X_PCA_val.shape)"
   ]
  },
  {
   "cell_type": "code",
   "execution_count": 96,
   "metadata": {},
   "outputs": [
    {
     "name": "stdout",
     "output_type": "stream",
     "text": [
      "K =  2\n",
      "Accuracy Val =  0.5379688929551693\n",
      "Accuracy Test =  0.5041171088746569\n",
      "Accuracy Train =  0.5512468542667581\n",
      "K =  5\n",
      "Accuracy Val =  0.7859103385178408\n",
      "Accuracy Test =  0.7301006404391582\n",
      "Accuracy Train =  0.7862045298558682\n",
      "K =  10\n",
      "Accuracy Val =  0.8298261665141812\n",
      "Accuracy Test =  0.848124428179323\n",
      "Accuracy Train =  0.8523221230839625\n",
      "K =  50\n",
      "Accuracy Val =  0.9112534309240622\n",
      "Accuracy Test =  0.9313815187557182\n",
      "Accuracy Train =  0.945664607641272\n",
      "K =  100\n",
      "Accuracy Val =  0.9405306495882891\n",
      "Accuracy Test =  0.958828911253431\n",
      "Accuracy Train =  0.9735758407687028\n",
      "K =  200\n",
      "Accuracy Val =  0.94967978042086\n",
      "Accuracy Test =  0.9624885635864593\n",
      "Accuracy Train =  0.9871882864333105\n",
      "K =  300\n",
      "Accuracy Val =  0.9542543458371455\n",
      "Accuracy Test =  0.9643183897529735\n",
      "Accuracy Train =  0.9881034088309312\n"
     ]
    }
   ],
   "source": [
    "plotAcc = []\n",
    "NumFeaturesInPCA = [2, 5, 10, 50, 100, 200, 300]\n",
    "for NumFeaturesInPCA in NumFeaturesInPCA:\n",
    "    print('K = ', NumFeaturesInPCA)\n",
    "    U , X_PCA = PCA_ML633(X , NumFeaturesInPCA, plot='off')\n",
    "    \n",
    "    X_PCA_Train = X_PCA[:8742,:]\n",
    "    y_PCA_Train = y[:8742]\n",
    "    X_PCA_val = X_PCA[8742:9835,:]\n",
    "    y_PCA_val = y[8742:9835]\n",
    "    X_PCA_test = X_PCA[9835:,:]\n",
    "    y_PCA_test = y[9835:]\n",
    "\n",
    "    clf = LogisticRegression()\n",
    "    clf.fit(X_PCA_Train, y_PCA_Train+1)\n",
    "\n",
    "    predictionsTrain = clf.predict(X_PCA_Train)\n",
    "    predictionsVal = clf.predict(X_PCA_val)\n",
    "    predictionsTest = clf.predict(X_PCA_test)\n",
    "\n",
    "    accVal = np.sum(predictionsVal == (y_PCA_val+1)) / y_PCA_val.shape[0]\n",
    "    print('Accuracy Val = ', accVal )\n",
    "    print('Accuracy Test = ', np.sum(predictionsTest == (y_PCA_test+1)) / y_PCA_test.shape[0] )\n",
    "    print('Accuracy Train = ', np.sum(predictionsTrain == (y_PCA_Train+1)) / y_PCA_Train.shape[0] )\n",
    "    plotAcc.append(accVal)\n",
    "   "
   ]
  },
  {
   "cell_type": "code",
   "execution_count": 124,
   "metadata": {},
   "outputs": [
    {
     "data": {
      "text/plain": [
       "[<matplotlib.lines.Line2D at 0x1ef8d73f0c8>]"
      ]
     },
     "execution_count": 124,
     "metadata": {},
     "output_type": "execute_result"
    },
    {
     "data": {
      "image/png": "[encoded data removed]",
      "text/plain": [
       "<Figure size 432x288 with 1 Axes>"
      ]
     },
     "metadata": {
      "needs_background": "light"
     },
     "output_type": "display_data"
    }
   ],
   "source": [
    "plt.figure()\n",
    "plt.ylabel('Validation set accuracy')\n",
    "plt.xlabel('K (Number of features included)')\n",
    "locs, labels = plt.xticks()\n",
    "NumFeaturesInPCA = [2, 5, 10, 50, 100, 200, 300]\n",
    "plt.xticks(np.arange(len(NumFeaturesInPCA)), NumFeaturesInPCA)\n",
    "plt.plot(plotAcc)"
   ]
  },
  {
   "cell_type": "code",
   "execution_count": 117,
   "metadata": {},
   "outputs": [],
   "source": [
    "U , X_PCA = PCA_ML633(X , 100, plot='off')\n",
    "X_PCA_Train = X_PCA[:8742,:]\n",
    "X_PCA_val = X_PCA[8742:9835,:]\n",
    "X_PCA_test = X_PCA[9835:,:]\n",
    "\n",
    "y_cat = to_categorical(y)\n",
    "y_cat_PCA_Train = y_cat[:8742,:]\n",
    "y_cat_PCA_val = y_cat[8742:9835,:]\n",
    "y_cat_PCA_test = y_cat[9835:,:]"
   ]
  },
  {
   "cell_type": "code",
   "execution_count": 118,
   "metadata": {},
   "outputs": [],
   "source": [
    "def Generate_Model_NN_PCA_DataSet():\n",
    "    m = models.Sequential()\n",
    "    m.add(layers.Dense( 30 , input_shape = (100,), activation='relu'))\n",
    "    m.add(layers.Dropout(0.3))\n",
    "    m.add(layers.Dense( 30 , activation='relu'))\n",
    "    m.add(layers.Dropout(0.3))\n",
    "    m.add(layers.Dense( 30 , activation='relu'))\n",
    "    m.add(layers.Dropout(0.3))\n",
    "    m.add(layers.Dense( 12 , activation='sigmoid'))\n",
    "\n",
    "    m.compile(optimizer='adam', loss='categorical_crossentropy', metrics=['accuracy'])\n",
    "    return m"
   ]
  },
  {
   "cell_type": "code",
   "execution_count": 119,
   "metadata": {},
   "outputs": [
    {
     "name": "stdout",
     "output_type": "stream",
     "text": [
      "Model: \"sequential_2\"\n",
      "_________________________________________________________________\n",
      "Layer (type)                 Output Shape              Param #   \n",
      "=================================================================\n",
      "dense_5 (Dense)              (None, 30)                3030      \n",
      "_________________________________________________________________\n",
      "dropout_4 (Dropout)          (None, 30)                0         \n",
      "_________________________________________________________________\n",
      "dense_6 (Dense)              (None, 30)                930       \n",
      "_________________________________________________________________\n",
      "dropout_5 (Dropout)          (None, 30)                0         \n",
      "_________________________________________________________________\n",
      "dense_7 (Dense)              (None, 30)                930       \n",
      "_________________________________________________________________\n",
      "dropout_6 (Dropout)          (None, 30)                0         \n",
      "_________________________________________________________________\n",
      "dense_8 (Dense)              (None, 12)                372       \n",
      "=================================================================\n",
      "Total params: 5,262\n",
      "Trainable params: 5,262\n",
      "Non-trainable params: 0\n",
      "_________________________________________________________________\n",
      "Train on 8742 samples, validate on 1093 samples\n",
      "Epoch 1/20\n",
      "8742/8742 [==============================] - 0s 39us/step - loss: 1.9908 - accuracy: 0.2741 - val_loss: 1.3790 - val_accuracy: 0.4437\n",
      "Epoch 2/20\n",
      "8742/8742 [==============================] - 0s 18us/step - loss: 1.2402 - accuracy: 0.4307 - val_loss: 0.8685 - val_accuracy: 0.5087\n",
      "Epoch 3/20\n",
      "8742/8742 [==============================] - 0s 22us/step - loss: 0.9587 - accuracy: 0.5189 - val_loss: 0.8247 - val_accuracy: 0.5023\n",
      "Epoch 4/20\n",
      "8742/8742 [==============================] - 0s 24us/step - loss: 0.8762 - accuracy: 0.5320 - val_loss: 0.7723 - val_accuracy: 0.5361\n",
      "Epoch 5/20\n",
      "8742/8742 [==============================] - 0s 22us/step - loss: 0.7827 - accuracy: 0.5854 - val_loss: 0.6618 - val_accuracy: 0.6340\n",
      "Epoch 6/20\n",
      "8742/8742 [==============================] - 0s 22us/step - loss: 0.6736 - accuracy: 0.6576 - val_loss: 0.5769 - val_accuracy: 0.7612\n",
      "Epoch 7/20\n",
      "8742/8742 [==============================] - 0s 21us/step - loss: 0.5986 - accuracy: 0.6939 - val_loss: 0.5017 - val_accuracy: 0.7338\n",
      "Epoch 8/20\n",
      "8742/8742 [==============================] - 0s 22us/step - loss: 0.5367 - accuracy: 0.7210 - val_loss: 0.4532 - val_accuracy: 0.7539\n",
      "Epoch 9/20\n",
      "8742/8742 [==============================] - 0s 21us/step - loss: 0.4904 - accuracy: 0.7407 - val_loss: 0.4313 - val_accuracy: 0.7658\n",
      "Epoch 10/20\n",
      "8742/8742 [==============================] - 0s 21us/step - loss: 0.4533 - accuracy: 0.7552 - val_loss: 0.4120 - val_accuracy: 0.7649\n",
      "Epoch 11/20\n",
      "8742/8742 [==============================] - 0s 21us/step - loss: 0.4280 - accuracy: 0.7679 - val_loss: 0.4087 - val_accuracy: 0.7521\n",
      "Epoch 12/20\n",
      "8742/8742 [==============================] - 0s 18us/step - loss: 0.4127 - accuracy: 0.7674 - val_loss: 0.4046 - val_accuracy: 0.7575\n",
      "Epoch 13/20\n",
      "8742/8742 [==============================] - 0s 20us/step - loss: 0.3986 - accuracy: 0.7726 - val_loss: 0.3975 - val_accuracy: 0.7548\n",
      "Epoch 14/20\n",
      "8742/8742 [==============================] - 0s 19us/step - loss: 0.3798 - accuracy: 0.7773 - val_loss: 0.3939 - val_accuracy: 0.8152\n",
      "Epoch 15/20\n",
      "8742/8742 [==============================] - 0s 18us/step - loss: 0.3771 - accuracy: 0.7837 - val_loss: 0.3973 - val_accuracy: 0.7850\n",
      "Epoch 16/20\n",
      "8742/8742 [==============================] - 0s 17us/step - loss: 0.3631 - accuracy: 0.7844 - val_loss: 0.3981 - val_accuracy: 0.8070\n",
      "Epoch 17/20\n",
      "8742/8742 [==============================] - 0s 18us/step - loss: 0.3662 - accuracy: 0.7812 - val_loss: 0.3995 - val_accuracy: 0.7585\n",
      "Epoch 18/20\n",
      "8742/8742 [==============================] - 0s 17us/step - loss: 0.3604 - accuracy: 0.7869 - val_loss: 0.3926 - val_accuracy: 0.7713\n",
      "Epoch 19/20\n",
      "8742/8742 [==============================] - 0s 17us/step - loss: 0.3496 - accuracy: 0.7915 - val_loss: 0.3930 - val_accuracy: 0.7722\n",
      "Epoch 20/20\n",
      "8742/8742 [==============================] - 0s 17us/step - loss: 0.3417 - accuracy: 0.7939 - val_loss: 0.3896 - val_accuracy: 0.7768\n"
     ]
    }
   ],
   "source": [
    "model_1_PCA_Trained = Generate_Model_NN_PCA_DataSet()\n",
    "model_1_PCA_Trained.summary()\n",
    "history = model_1_PCA_Trained.fit(X_PCA_Train, y_cat_PCA_Train,\n",
    "                    batch_size=100,\n",
    "                    epochs=20,\n",
    "                    validation_data=(X_PCA_val, y_cat_PCA_val))"
   ]
  },
  {
   "cell_type": "code",
   "execution_count": 121,
   "metadata": {},
   "outputs": [
    {
     "name": "stdout",
     "output_type": "stream",
     "text": [
      "1093/1093 [==============================] - 0s 22us/step\n",
      "test_acc:  0.7987191081047058\n",
      "1093/1093 [==============================] - 0s 26us/step\n",
      "val_acc:  0.7767612338066101\n",
      "8742/8742 [==============================] - 0s 20us/step\n",
      "train_acc:  0.812743067741394\n"
     ]
    }
   ],
   "source": [
    "loss, test_acc = model_1_PCA_Trained.evaluate(X_PCA_test, y_cat_PCA_test)\n",
    "print('test_acc: ', test_acc)\n",
    "\n",
    "loss, val_acc = model_1_PCA_Trained.evaluate(X_PCA_val, y_cat_PCA_val)\n",
    "print('val_acc: ', val_acc)\n",
    "\n",
    "loss, train_acc = model_1_PCA_Trained.evaluate(X_PCA_Train, y_cat_PCA_Train)\n",
    "print('train_acc: ', train_acc)"
   ]
  },
  {
   "cell_type": "markdown",
   "metadata": {},
   "source": [
    "# (h) Support vector machine."
   ]
  },
  {
   "cell_type": "code",
   "execution_count": 56,
   "metadata": {},
   "outputs": [],
   "source": [
    "from sklearn import svm"
   ]
  },
  {
   "cell_type": "code",
   "execution_count": 132,
   "metadata": {},
   "outputs": [],
   "source": [
    "U , X_PCA = PCA_ML633(X , 100, plot='off')\n",
    "    \n",
    "X_PCA_Train = X_PCA[:8742,:]\n",
    "y_PCA_Train = y[:8742]\n",
    "X_PCA_val = X_PCA[8742:9835,:]\n",
    "y_PCA_val = y[8742:9835]\n",
    "X_PCA_test = X_PCA[9835:,:]\n",
    "y_PCA_test = y[9835:]"
   ]
  },
  {
   "cell_type": "code",
   "execution_count": 137,
   "metadata": {},
   "outputs": [
    {
     "name": "stdout",
     "output_type": "stream",
     "text": [
      "Kernel:  linear   C= 0.1\n",
      "Val Accuracy =  0.9432753888380604 Test Accuracy =  0.9432753888380604\n",
      "Kernel:  linear   C= 0.2\n",
      "Val Accuracy =  0.9414455626715462 Test Accuracy =  0.9451052150045746\n",
      "Kernel:  linear   C= 0.5\n",
      "Val Accuracy =  0.9332113449222323 Test Accuracy =  0.9487648673376029\n",
      "Kernel:  linear   C= 1\n",
      "Val Accuracy =  0.929551692589204 Test Accuracy =  0.9505946935041171\n",
      "Kernel:  linear   C= 10\n",
      "Val Accuracy =  0.9322964318389753 Test Accuracy =  0.9560841720036597\n",
      "Kernel:  linear   C= 50\n",
      "Val Accuracy =  0.9341262580054894 Test Accuracy =  0.9560841720036597\n",
      "Kernel:  linear   C= 100\n",
      "Val Accuracy =  0.9332113449222323 Test Accuracy =  0.9560841720036597\n",
      "Kernel:  rbf   C= 0.1\n",
      "Val Accuracy =  0.8874656907593779 Test Accuracy =  0.8819762122598354\n",
      "Kernel:  rbf   C= 0.2\n",
      "Val Accuracy =  0.9075937785910339 Test Accuracy =  0.9204025617566332\n",
      "Kernel:  rbf   C= 0.5\n",
      "Val Accuracy =  0.9277218664226898 Test Accuracy =  0.9277218664226898\n",
      "Kernel:  rbf   C= 1\n",
      "Val Accuracy =  0.9368709972552608 Test Accuracy =  0.929551692589204\n",
      "Kernel:  rbf   C= 10\n",
      "Val Accuracy =  0.9423604757548033 Test Accuracy =  0.9432753888380604\n",
      "Kernel:  rbf   C= 50\n",
      "Val Accuracy =  0.9487648673376029 Test Accuracy =  0.9423604757548033\n",
      "Kernel:  rbf   C= 100\n",
      "Val Accuracy =  0.9505946935041171 Test Accuracy =  0.9432753888380604\n",
      "Kernel:  sigmoid   C= 0.1\n",
      "Val Accuracy =  0.8655077767612077 Test Accuracy =  0.8636779505946935\n",
      "Kernel:  sigmoid   C= 0.2\n",
      "Val Accuracy =  0.8755718206770357 Test Accuracy =  0.8774016468435498\n",
      "Kernel:  sigmoid   C= 0.5\n",
      "Val Accuracy =  0.8828911253430924 Test Accuracy =  0.889295516925892\n",
      "Kernel:  sigmoid   C= 1\n",
      "Val Accuracy =  0.8810612991765783 Test Accuracy =  0.888380603842635\n",
      "Kernel:  sigmoid   C= 10\n",
      "Val Accuracy =  0.8563586459286368 Test Accuracy =  0.8508691674290942\n",
      "Kernel:  sigmoid   C= 50\n",
      "Val Accuracy =  0.8371454711802379 Test Accuracy =  0.8536139066788655\n",
      "Kernel:  sigmoid   C= 100\n",
      "Val Accuracy =  0.8334858188472095 Test Accuracy =  0.8517840805123513\n",
      "Kernel:  poly   C= 0.1\n",
      "Val Accuracy =  0.7849954254345837 Test Accuracy =  0.7035681610247027\n",
      "Kernel:  poly   C= 0.2\n",
      "Val Accuracy =  0.8243366880146387 Test Accuracy =  0.777676120768527\n",
      "Kernel:  poly   C= 0.5\n",
      "Val Accuracy =  0.8609332113449222 Test Accuracy =  0.8298261665141812\n",
      "Kernel:  poly   C= 1\n",
      "Val Accuracy =  0.8874656907593779 Test Accuracy =  0.8655077767612077\n",
      "Kernel:  poly   C= 10\n",
      "Val Accuracy =  0.9350411710887465 Test Accuracy =  0.9121683440073193\n",
      "Kernel:  poly   C= 50\n",
      "Val Accuracy =  0.9377859103385179 Test Accuracy =  0.929551692589204\n",
      "Kernel:  poly   C= 100\n",
      "Val Accuracy =  0.938700823421775 Test Accuracy =  0.9313815187557182\n"
     ]
    }
   ],
   "source": [
    "accuracyDict = dict()\n",
    "accuracyDict['linear'] = []\n",
    "accuracyDict['rbf'] = []\n",
    "accuracyDict['sigmoid'] = []\n",
    "accuracyDict['poly'] = []\n",
    "Reg_values = [0.1, 0.2, 0.5, 1, 10, 50, 100]\n",
    "for kernelX in ['linear', 'rbf', 'sigmoid', 'poly']:\n",
    "    for reg in Reg_values:\n",
    "        print('Kernel: ', kernelX, '  C=', reg)\n",
    "        SVM_clf = svm.SVC(C=reg, kernel=kernelX)\n",
    "        SVM_clf.fit(X_PCA_Train, y_PCA_Train+1)\n",
    "        predictions_val = SVM_clf.predict(X_PCA_val)\n",
    "        predictions_test = SVM_clf.predict(X_PCA_test)\n",
    "        acc1 = np.sum(np.equal(predictions_val, y_PCA_val+1)) / y_PCA_val.shape[0]\n",
    "        acc2 = np.sum(np.equal(predictions_test, y_PCA_test+1)) / y_PCA_test.shape[0]\n",
    "        print('Val Accuracy = ', acc1, 'Test Accuracy = ', acc2)\n",
    "        accuracyDict[kernelX].append(acc1)"
   ]
  },
  {
   "cell_type": "code",
   "execution_count": 139,
   "metadata": {},
   "outputs": [
    {
     "data": {
      "image/png": "[encoded data removed]",
      "text/plain": [
       "<Figure size 432x288 with 1 Axes>"
      ]
     },
     "metadata": {
      "needs_background": "light"
     },
     "output_type": "display_data"
    }
   ],
   "source": [
    "for kernelX in accuracyDict:\n",
    "    plt.plot(accuracyDict[kernelX], label=kernelX)\n",
    "\n",
    "plt.legend()\n",
    "plt.xlabel('C value')\n",
    "plt.ylabel('Validation set accuracy')\n",
    "plt.xticks(np.arange(len(Reg_values)), Reg_values)\n",
    "plt.show()"
   ]
  },
  {
   "cell_type": "markdown",
   "metadata": {},
   "source": [
    "# (i) Ensemble learning"
   ]
  },
  {
   "cell_type": "code",
   "execution_count": 62,
   "metadata": {},
   "outputs": [],
   "source": [
    "from sklearn.ensemble import AdaBoostClassifier\n",
    "from sklearn.tree import DecisionTreeClassifier\n",
    "from sklearn.linear_model import LogisticRegression\n",
    "from sklearn.multiclass import OneVsRestClassifier"
   ]
  },
  {
   "cell_type": "code",
   "execution_count": 63,
   "metadata": {
    "scrolled": true
   },
   "outputs": [
    {
     "name": "stdout",
     "output_type": "stream",
     "text": [
      "Number of estimators =  2 Val Accuracy =  0.7904849039341263 Test Accuracy =  0.8005489478499542\n",
      "Number of estimators =  3 Val Accuracy =  0.7941445562671546 Test Accuracy =  0.8023787740164684\n",
      "Number of estimators =  4 Val Accuracy =  0.8069533394327539 Test Accuracy =  0.8115279048490394\n",
      "Number of estimators =  5 Val Accuracy =  0.8133577310155535 Test Accuracy =  0.8151875571820677\n",
      "Number of estimators =  6 Val Accuracy =  0.7721866422689845 Test Accuracy =  0.7968892955169259\n",
      "Number of estimators =  7 Val Accuracy =  0.7703568161024703 Test Accuracy =  0.7804208600182982\n",
      "Number of estimators =  8 Val Accuracy =  0.747483989021043 Test Accuracy =  0.7822506861848124\n",
      "Number of estimators =  9 Val Accuracy =  0.7749313815187557 Test Accuracy =  0.8042086001829826\n",
      "Number of estimators =  10 Val Accuracy =  0.787740164684355 Test Accuracy =  0.807868252516011\n",
      "Number of estimators =  11 Val Accuracy =  0.7346752058554438 Test Accuracy =  0.7749313815187557\n",
      "Number of estimators =  12 Val Accuracy =  0.8051235132662397 Test Accuracy =  0.8161024702653248\n",
      "Number of estimators =  13 Val Accuracy =  0.8014638609332113 Test Accuracy =  0.817932296431839\n",
      "Number of estimators =  14 Val Accuracy =  0.7749313815187557 Test Accuracy =  0.8005489478499542\n",
      "Number of estimators =  15 Val Accuracy =  0.797804208600183 Test Accuracy =  0.817932296431839\n",
      "Number of estimators =  16 Val Accuracy =  0.8051235132662397 Test Accuracy =  0.8161024702653248\n",
      "Number of estimators =  17 Val Accuracy =  0.7685269899359561 Test Accuracy =  0.8005489478499542\n",
      "Number of estimators =  18 Val Accuracy =  0.797804208600183 Test Accuracy =  0.8124428179322964\n",
      "Number of estimators =  19 Val Accuracy =  0.8087831655992681 Test Accuracy =  0.8133577310155535\n"
     ]
    }
   ],
   "source": [
    "Val_accuracy = []\n",
    "Test_accuracy = []\n",
    "num_estims = []\n",
    "\n",
    "for n_est in range(2,20):\n",
    "    estimator = LogisticRegression(multi_class='ovr')\n",
    "    clf = AdaBoostClassifier(estimator, n_estimators=n_est, algorithm='SAMME')\n",
    "    clf.fit(X_train, y_train+1)\n",
    "    predictions_val = clf.predict(X_val)\n",
    "    predictions_test = clf.predict(X_test)\n",
    "    acc1 = np.sum(np.equal(predictions_val, y_val+1)) / y_val.shape[0]\n",
    "    acc2 = np.sum(np.equal(predictions_test, y_test+1)) / y_test.shape[0]\n",
    "    Val_accuracy.append(acc1)\n",
    "    Test_accuracy.append(acc2)\n",
    "    num_estims.append(n_est)\n",
    "    print('Number of estimators = ', n_est, 'Val Accuracy = ', acc1, 'Test Accuracy = ', acc2)"
   ]
  },
  {
   "cell_type": "code",
   "execution_count": 71,
   "metadata": {},
   "outputs": [
    {
     "data": {
      "text/plain": [
       "<matplotlib.legend.Legend at 0x1effe3c2b48>"
      ]
     },
     "execution_count": 71,
     "metadata": {},
     "output_type": "execute_result"
    },
    {
     "data": {
      "image/png": "[encoded data removed]",
      "text/plain": [
       "<Figure size 432x288 with 1 Axes>"
      ]
     },
     "metadata": {
      "needs_background": "light"
     },
     "output_type": "display_data"
    }
   ],
   "source": [
    "plt.figure()\n",
    "plt.plot(num_estims, Val_accuracy, label='Validation Accuracy')\n",
    "plt.plot(num_estims, Test_accuracy, label='Test Accuracy')\n",
    "plt.legend()"
   ]
  },
  {
   "cell_type": "code",
   "execution_count": 72,
   "metadata": {},
   "outputs": [
    {
     "name": "stdout",
     "output_type": "stream",
     "text": [
      "Number of estimators =  1 Val Accuracy =  0.5233302836230558 Test Accuracy =  0.5297346752058555\n",
      "Number of estimators =  2 Val Accuracy =  0.5800548947849954 Test Accuracy =  0.5507776761207686\n",
      "Number of estimators =  3 Val Accuracy =  0.6550777676120768 Test Accuracy =  0.645928636779506\n",
      "Number of estimators =  4 Val Accuracy =  0.6907593778591034 Test Accuracy =  0.6770356816102471\n",
      "Number of estimators =  5 Val Accuracy =  0.6605672461116194 Test Accuracy =  0.6678865507776761\n",
      "Number of estimators =  6 Val Accuracy =  0.6303751143641354 Test Accuracy =  0.6532479414455626\n",
      "Number of estimators =  7 Val Accuracy =  0.6907593778591034 Test Accuracy =  0.6733760292772186\n",
      "Number of estimators =  8 Val Accuracy =  0.7026532479414456 Test Accuracy =  0.6916742909423604\n",
      "Number of estimators =  9 Val Accuracy =  0.6953339432753889 Test Accuracy =  0.6999085086916743\n",
      "Number of estimators =  10 Val Accuracy =  0.7108874656907593 Test Accuracy =  0.6816102470265325\n",
      "Number of estimators =  11 Val Accuracy =  0.7255260750228728 Test Accuracy =  0.7118023787740164\n",
      "Number of estimators =  12 Val Accuracy =  0.7090576395242452 Test Accuracy =  0.7008234217749314\n",
      "Number of estimators =  13 Val Accuracy =  0.7145471180237878 Test Accuracy =  0.7099725526075022\n",
      "Number of estimators =  14 Val Accuracy =  0.737419945105215 Test Accuracy =  0.7145471180237878\n",
      "Number of estimators =  15 Val Accuracy =  0.7282708142726441 Test Accuracy =  0.7053979871912168\n",
      "Number of estimators =  16 Val Accuracy =  0.7255260750228728 Test Accuracy =  0.6971637694419031\n",
      "Number of estimators =  17 Val Accuracy =  0.7136322049405307 Test Accuracy =  0.7108874656907593\n",
      "Number of estimators =  18 Val Accuracy =  0.8133577310155535 Test Accuracy =  0.7904849039341263\n",
      "Number of estimators =  19 Val Accuracy =  0.8032936870997255 Test Accuracy =  0.7795059469350412\n"
     ]
    }
   ],
   "source": [
    "Val_accuracy = []\n",
    "Test_accuracy = []\n",
    "num_estims = []\n",
    "\n",
    "for n_est in range(1,20):\n",
    "    estimator = DecisionTreeClassifier(max_depth=2)\n",
    "    clf = AdaBoostClassifier(estimator, n_estimators=n_est, algorithm='SAMME')\n",
    "    clf.fit(X_train, y_train+1)\n",
    "    predictions_val = clf.predict(X_val)\n",
    "    predictions_test = clf.predict(X_test)\n",
    "    acc1 = np.sum(np.equal(predictions_val, y_val+1)) / y_val.shape[0]\n",
    "    acc2 = np.sum(np.equal(predictions_test, y_test+1)) / y_test.shape[0]\n",
    "    Val_accuracy.append(acc1)\n",
    "    Test_accuracy.append(acc2)\n",
    "    num_estims.append(n_est)\n",
    "    print('Number of estimators = ', n_est, 'Val Accuracy = ', acc1, 'Test Accuracy = ', acc2)"
   ]
  }
 ],
 "metadata": {
  "kernelspec": {
   "display_name": "Python 3",
   "language": "python",
   "name": "python3"
  },
  "language_info": {
   "codemirror_mode": {
    "name": "ipython",
    "version": 3
   },
   "file_extension": ".py",
   "mimetype": "text/x-python",
   "name": "python",
   "nbconvert_exporter": "python",
   "pygments_lexer": "ipython3",
   "version": "3.7.4"
  }
 },
 "nbformat": 4,
 "nbformat_minor": 2
}
